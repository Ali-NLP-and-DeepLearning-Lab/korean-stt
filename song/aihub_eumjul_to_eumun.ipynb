{
 "cells": [
  {
   "cell_type": "code",
   "execution_count": 1,
   "metadata": {},
   "outputs": [],
   "source": [
    "import numpy as np\n",
    "import urllib.request\n",
    "from bs4 import BeautifulSoup\n",
    "import jamotools\n",
    "from tqdm import tqdm_notebook as tqdm\n",
    "import openpyxl\n",
    "import glob"
   ]
  },
  {
   "cell_type": "code",
   "execution_count": 2,
   "metadata": {},
   "outputs": [],
   "source": [
    "data_path = '../data/aihub_corpus/'\n",
    "corpus_list = glob.glob(data_path + '*xlsx')\n",
    "\n",
    "url = 'http://pronunciation.cs.pusan.ac.kr/pronunc2.asp?text1='\n",
    "hangul_range = range(0x1100, 0x11FF + 1)"
   ]
  },
  {
   "cell_type": "code",
   "execution_count": 3,
   "metadata": {
    "scrolled": true
   },
   "outputs": [
    {
     "name": "stdout",
     "output_type": "stream",
     "text": [
      "Loading Corpus at (../data/aihub_corpus\\1.구어체.xlsx)\n",
      "Loading Finished\n"
     ]
    },
    {
     "data": {
      "application/vnd.jupyter.widget-view+json": {
       "model_id": "feff9986abbd4fdea82edc1d85ed204b",
       "version_major": 2,
       "version_minor": 0
      },
      "text/plain": [
       "HBox(children=(IntProgress(value=1, bar_style='info', max=1), HTML(value='')))"
      ]
     },
     "metadata": {},
     "output_type": "display_data"
    },
    {
     "name": "stdout",
     "output_type": "stream",
     "text": [
      "'euc_kr' codec can't encode character '\\u110f' in position 0: illegal multibyte sequence\n"
     ]
    },
    {
     "name": "stderr",
     "output_type": "stream",
     "text": [
      "Some characters could not be decoded, and were replaced with REPLACEMENT CHARACTER.\n",
      "Some characters could not be decoded, and were replaced with REPLACEMENT CHARACTER.\n"
     ]
    },
    {
     "name": "stdout",
     "output_type": "stream",
     "text": [
      "'euc_kr' codec can't encode character '\\xa0' in position 5: illegal multibyte sequence\n"
     ]
    },
    {
     "name": "stderr",
     "output_type": "stream",
     "text": [
      "Some characters could not be decoded, and were replaced with REPLACEMENT CHARACTER.\n"
     ]
    },
    {
     "name": "stdout",
     "output_type": "stream",
     "text": [
      "'euc_kr' codec can't encode character '\\xa0' in position 17: illegal multibyte sequence\n",
      "'euc_kr' codec can't encode character '\\xa0' in position 4: illegal multibyte sequence\n",
      "'euc_kr' codec can't encode character '\\xa0' in position 5: illegal multibyte sequence\n",
      "'euc_kr' codec can't encode character '\\xa0' in position 3: illegal multibyte sequence\n"
     ]
    },
    {
     "name": "stderr",
     "output_type": "stream",
     "text": [
      "Some characters could not be decoded, and were replaced with REPLACEMENT CHARACTER.\n",
      "Some characters could not be decoded, and were replaced with REPLACEMENT CHARACTER.\n"
     ]
    },
    {
     "name": "stdout",
     "output_type": "stream",
     "text": [
      "'euc_kr' codec can't encode character '\\xa0' in position 6: illegal multibyte sequence\n",
      "'euc_kr' codec can't encode character '\\xa0' in position 3: illegal multibyte sequence\n",
      "'euc_kr' codec can't encode character '\\xa0' in position 15: illegal multibyte sequence\n",
      "'euc_kr' codec can't encode character '\\u30fb' in position 13: illegal multibyte sequence\n",
      "'euc_kr' codec can't encode character '\\xa0' in position 16: illegal multibyte sequence\n"
     ]
    },
    {
     "name": "stderr",
     "output_type": "stream",
     "text": [
      "Some characters could not be decoded, and were replaced with REPLACEMENT CHARACTER.\n",
      "Some characters could not be decoded, and were replaced with REPLACEMENT CHARACTER.\n",
      "Some characters could not be decoded, and were replaced with REPLACEMENT CHARACTER.\n"
     ]
    },
    {
     "name": "stdout",
     "output_type": "stream",
     "text": [
      "'euc_kr' codec can't encode character '\\xa0' in position 9: illegal multibyte sequence\n",
      "'euc_kr' codec can't encode character '\\xa0' in position 4: illegal multibyte sequence\n"
     ]
    },
    {
     "name": "stderr",
     "output_type": "stream",
     "text": [
      "Some characters could not be decoded, and were replaced with REPLACEMENT CHARACTER.\n"
     ]
    },
    {
     "name": "stdout",
     "output_type": "stream",
     "text": [
      "'euc_kr' codec can't encode character '\\xa0' in position 3: illegal multibyte sequence\n",
      "'euc_kr' codec can't encode character '\\xa0' in position 6: illegal multibyte sequence\n",
      "'euc_kr' codec can't encode character '\\xa0' in position 3: illegal multibyte sequence\n"
     ]
    },
    {
     "name": "stderr",
     "output_type": "stream",
     "text": [
      "Some characters could not be decoded, and were replaced with REPLACEMENT CHARACTER.\n",
      "Some characters could not be decoded, and were replaced with REPLACEMENT CHARACTER.\n",
      "Some characters could not be decoded, and were replaced with REPLACEMENT CHARACTER.\n",
      "Some characters could not be decoded, and were replaced with REPLACEMENT CHARACTER.\n",
      "Some characters could not be decoded, and were replaced with REPLACEMENT CHARACTER.\n",
      "Some characters could not be decoded, and were replaced with REPLACEMENT CHARACTER.\n",
      "Some characters could not be decoded, and were replaced with REPLACEMENT CHARACTER.\n",
      "Some characters could not be decoded, and were replaced with REPLACEMENT CHARACTER.\n",
      "Some characters could not be decoded, and were replaced with REPLACEMENT CHARACTER.\n",
      "Some characters could not be decoded, and were replaced with REPLACEMENT CHARACTER.\n",
      "Some characters could not be decoded, and were replaced with REPLACEMENT CHARACTER.\n",
      "Some characters could not be decoded, and were replaced with REPLACEMENT CHARACTER.\n",
      "Some characters could not be decoded, and were replaced with REPLACEMENT CHARACTER.\n"
     ]
    },
    {
     "name": "stdout",
     "output_type": "stream",
     "text": [
      "'euc_kr' codec can't encode character '\\xa0' in position 4: illegal multibyte sequence\n"
     ]
    },
    {
     "name": "stderr",
     "output_type": "stream",
     "text": [
      "Some characters could not be decoded, and were replaced with REPLACEMENT CHARACTER.\n"
     ]
    },
    {
     "name": "stdout",
     "output_type": "stream",
     "text": [
      "'euc_kr' codec can't encode character '\\xa0' in position 5: illegal multibyte sequence\n",
      "'euc_kr' codec can't encode character '\\xa0' in position 27: illegal multibyte sequence\n",
      "'euc_kr' codec can't encode character '\\xa0' in position 8: illegal multibyte sequence\n",
      "'euc_kr' codec can't encode character '\\xa0' in position 18: illegal multibyte sequence\n",
      "'euc_kr' codec can't encode character '\\xa0' in position 8: illegal multibyte sequence\n",
      "'euc_kr' codec can't encode character '\\xa0' in position 4: illegal multibyte sequence\n",
      "'euc_kr' codec can't encode character '\\xa0' in position 3: illegal multibyte sequence\n",
      "'euc_kr' codec can't encode character '\\xa0' in position 13: illegal multibyte sequence\n",
      "'euc_kr' codec can't encode character '\\xa0' in position 9: illegal multibyte sequence\n",
      "'euc_kr' codec can't encode character '\\xa0' in position 9: illegal multibyte sequence\n",
      "'euc_kr' codec can't encode character '\\xa0' in position 5: illegal multibyte sequence\n",
      "'euc_kr' codec can't encode character '\\xa0' in position 33: illegal multibyte sequence\n",
      "'euc_kr' codec can't encode character '\\xa0' in position 9: illegal multibyte sequence\n"
     ]
    },
    {
     "name": "stderr",
     "output_type": "stream",
     "text": [
      "Some characters could not be decoded, and were replaced with REPLACEMENT CHARACTER.\n"
     ]
    },
    {
     "name": "stdout",
     "output_type": "stream",
     "text": [
      "'euc_kr' codec can't encode character '\\xa0' in position 6: illegal multibyte sequence\n",
      "'euc_kr' codec can't encode character '\\xa0' in position 2: illegal multibyte sequence\n",
      "'euc_kr' codec can't encode character '\\u202a' in position 4: illegal multibyte sequence\n",
      "'euc_kr' codec can't encode character '\\U0001f44f' in position 10: illegal multibyte sequence\n"
     ]
    },
    {
     "name": "stderr",
     "output_type": "stream",
     "text": [
      "Some characters could not be decoded, and were replaced with REPLACEMENT CHARACTER.\n"
     ]
    },
    {
     "name": "stdout",
     "output_type": "stream",
     "text": [
      "'euc_kr' codec can't encode character '\\xa0' in position 8: illegal multibyte sequence\n",
      "'euc_kr' codec can't encode character '\\xa0' in position 3: illegal multibyte sequence\n",
      "\n",
      "Loading Corpus at (../data/aihub_corpus\\2.대화체.xlsx)\n",
      "Loading Finished\n"
     ]
    },
    {
     "data": {
      "application/vnd.jupyter.widget-view+json": {
       "model_id": "b0be0aa7e4f340fc88b1ef4256604c7c",
       "version_major": 2,
       "version_minor": 0
      },
      "text/plain": [
       "HBox(children=(IntProgress(value=1, bar_style='info', max=1), HTML(value='')))"
      ]
     },
     "metadata": {},
     "output_type": "display_data"
    },
    {
     "name": "stderr",
     "output_type": "stream",
     "text": [
      "Some characters could not be decoded, and were replaced with REPLACEMENT CHARACTER.\n",
      "Some characters could not be decoded, and were replaced with REPLACEMENT CHARACTER.\n",
      "Some characters could not be decoded, and were replaced with REPLACEMENT CHARACTER.\n",
      "Some characters could not be decoded, and were replaced with REPLACEMENT CHARACTER.\n",
      "Some characters could not be decoded, and were replaced with REPLACEMENT CHARACTER.\n",
      "Some characters could not be decoded, and were replaced with REPLACEMENT CHARACTER.\n",
      "Some characters could not be decoded, and were replaced with REPLACEMENT CHARACTER.\n",
      "Some characters could not be decoded, and were replaced with REPLACEMENT CHARACTER.\n",
      "Some characters could not be decoded, and were replaced with REPLACEMENT CHARACTER.\n",
      "Some characters could not be decoded, and were replaced with REPLACEMENT CHARACTER.\n",
      "Some characters could not be decoded, and were replaced with REPLACEMENT CHARACTER.\n",
      "Some characters could not be decoded, and were replaced with REPLACEMENT CHARACTER.\n",
      "Some characters could not be decoded, and were replaced with REPLACEMENT CHARACTER.\n",
      "Some characters could not be decoded, and were replaced with REPLACEMENT CHARACTER.\n",
      "Some characters could not be decoded, and were replaced with REPLACEMENT CHARACTER.\n",
      "Some characters could not be decoded, and were replaced with REPLACEMENT CHARACTER.\n",
      "Some characters could not be decoded, and were replaced with REPLACEMENT CHARACTER.\n",
      "Some characters could not be decoded, and were replaced with REPLACEMENT CHARACTER.\n",
      "Some characters could not be decoded, and were replaced with REPLACEMENT CHARACTER.\n"
     ]
    },
    {
     "name": "stdout",
     "output_type": "stream",
     "text": [
      "\n",
      "Loading Corpus at (../data/aihub_corpus\\3.문어체-뉴스.xlsx)\n",
      "Loading Finished\n"
     ]
    },
    {
     "data": {
      "application/vnd.jupyter.widget-view+json": {
       "model_id": "42b405c4800246e3a641699b8c9cb66f",
       "version_major": 2,
       "version_minor": 0
      },
      "text/plain": [
       "HBox(children=(IntProgress(value=1, bar_style='info', max=1), HTML(value='')))"
      ]
     },
     "metadata": {},
     "output_type": "display_data"
    },
    {
     "name": "stdout",
     "output_type": "stream",
     "text": [
      "'euc_kr' codec can't encode character '\\u2024' in position 33: illegal multibyte sequence\n"
     ]
    },
    {
     "name": "stderr",
     "output_type": "stream",
     "text": [
      "Some characters could not be decoded, and were replaced with REPLACEMENT CHARACTER.\n",
      "Some characters could not be decoded, and were replaced with REPLACEMENT CHARACTER.\n",
      "Some characters could not be decoded, and were replaced with REPLACEMENT CHARACTER.\n"
     ]
    },
    {
     "name": "stdout",
     "output_type": "stream",
     "text": [
      "'euc_kr' codec can't encode character '\\u2027' in position 27: illegal multibyte sequence\n",
      "'euc_kr' codec can't encode character '\\u2027' in position 87: illegal multibyte sequence\n"
     ]
    },
    {
     "name": "stderr",
     "output_type": "stream",
     "text": [
      "Some characters could not be decoded, and were replaced with REPLACEMENT CHARACTER.\n",
      "Some characters could not be decoded, and were replaced with REPLACEMENT CHARACTER.\n"
     ]
    },
    {
     "name": "stdout",
     "output_type": "stream",
     "text": [
      "'euc_kr' codec can't encode character '\\u017e' in position 48: illegal multibyte sequence\n",
      "'euc_kr' codec can't encode character '\\u2027' in position 1: illegal multibyte sequence\n",
      "'euc_kr' codec can't encode character '\\u2027' in position 5: illegal multibyte sequence\n"
     ]
    },
    {
     "name": "stderr",
     "output_type": "stream",
     "text": [
      "Some characters could not be decoded, and were replaced with REPLACEMENT CHARACTER.\n",
      "Some characters could not be decoded, and were replaced with REPLACEMENT CHARACTER.\n"
     ]
    },
    {
     "name": "stdout",
     "output_type": "stream",
     "text": [
      "'euc_kr' codec can't encode character '\\u2027' in position 12: illegal multibyte sequence\n",
      "'euc_kr' codec can't encode character '\\u2024' in position 16: illegal multibyte sequence\n"
     ]
    },
    {
     "name": "stderr",
     "output_type": "stream",
     "text": [
      "Some characters could not be decoded, and were replaced with REPLACEMENT CHARACTER.\n"
     ]
    },
    {
     "name": "stdout",
     "output_type": "stream",
     "text": [
      "'euc_kr' codec can't encode character '\\u2027' in position 63: illegal multibyte sequence\n"
     ]
    },
    {
     "name": "stderr",
     "output_type": "stream",
     "text": [
      "Some characters could not be decoded, and were replaced with REPLACEMENT CHARACTER.\n"
     ]
    },
    {
     "name": "stdout",
     "output_type": "stream",
     "text": [
      "'euc_kr' codec can't encode character '\\u2024' in position 46: illegal multibyte sequence\n",
      "'euc_kr' codec can't encode character '\\u2027' in position 58: illegal multibyte sequence\n",
      "'euc_kr' codec can't encode character '\\u2027' in position 50: illegal multibyte sequence\n",
      "'euc_kr' codec can't encode character '\\u2027' in position 14: illegal multibyte sequence\n",
      "'euc_kr' codec can't encode character '\\u2027' in position 35: illegal multibyte sequence\n",
      "'euc_kr' codec can't encode character '\\u2027' in position 60: illegal multibyte sequence\n",
      "'euc_kr' codec can't encode character '\\u2024' in position 67: illegal multibyte sequence\n"
     ]
    },
    {
     "name": "stderr",
     "output_type": "stream",
     "text": [
      "Some characters could not be decoded, and were replaced with REPLACEMENT CHARACTER.\n"
     ]
    },
    {
     "name": "stdout",
     "output_type": "stream",
     "text": [
      "'euc_kr' codec can't encode character '\\u2027' in position 14: illegal multibyte sequence\n"
     ]
    },
    {
     "name": "stderr",
     "output_type": "stream",
     "text": [
      "Some characters could not be decoded, and were replaced with REPLACEMENT CHARACTER.\n"
     ]
    },
    {
     "name": "stdout",
     "output_type": "stream",
     "text": [
      "'euc_kr' codec can't encode character '\\u2027' in position 69: illegal multibyte sequence\n",
      "'euc_kr' codec can't encode character '\\u2024' in position 46: illegal multibyte sequence\n",
      "'euc_kr' codec can't encode character '\\u2024' in position 11: illegal multibyte sequence\n",
      "'euc_kr' codec can't encode character '\\u2024' in position 57: illegal multibyte sequence\n",
      "'euc_kr' codec can't encode character '\\u2024' in position 105: illegal multibyte sequence\n"
     ]
    },
    {
     "name": "stderr",
     "output_type": "stream",
     "text": [
      "Some characters could not be decoded, and were replaced with REPLACEMENT CHARACTER.\n"
     ]
    },
    {
     "name": "stdout",
     "output_type": "stream",
     "text": [
      "'euc_kr' codec can't encode character '\\u2024' in position 79: illegal multibyte sequence\n"
     ]
    },
    {
     "name": "stderr",
     "output_type": "stream",
     "text": [
      "Some characters could not be decoded, and were replaced with REPLACEMENT CHARACTER.\n"
     ]
    },
    {
     "name": "stdout",
     "output_type": "stream",
     "text": [
      "'euc_kr' codec can't encode character '\\u2027' in position 63: illegal multibyte sequence\n"
     ]
    },
    {
     "name": "stderr",
     "output_type": "stream",
     "text": [
      "Some characters could not be decoded, and were replaced with REPLACEMENT CHARACTER.\n"
     ]
    },
    {
     "name": "stdout",
     "output_type": "stream",
     "text": [
      "'euc_kr' codec can't encode character '\\u2024' in position 42: illegal multibyte sequence\n",
      "'euc_kr' codec can't encode character '\\u2027' in position 42: illegal multibyte sequence\n"
     ]
    },
    {
     "name": "stderr",
     "output_type": "stream",
     "text": [
      "Some characters could not be decoded, and were replaced with REPLACEMENT CHARACTER.\n"
     ]
    },
    {
     "name": "stdout",
     "output_type": "stream",
     "text": [
      "'euc_kr' codec can't encode character '\\u2024' in position 34: illegal multibyte sequence\n",
      "'euc_kr' codec can't encode character '\\u2027' in position 67: illegal multibyte sequence\n"
     ]
    },
    {
     "name": "stderr",
     "output_type": "stream",
     "text": [
      "Some characters could not be decoded, and were replaced with REPLACEMENT CHARACTER.\n"
     ]
    },
    {
     "name": "stdout",
     "output_type": "stream",
     "text": [
      "'euc_kr' codec can't encode character '\\u2027' in position 16: illegal multibyte sequence\n"
     ]
    },
    {
     "name": "stderr",
     "output_type": "stream",
     "text": [
      "Some characters could not be decoded, and were replaced with REPLACEMENT CHARACTER.\n"
     ]
    },
    {
     "name": "stdout",
     "output_type": "stream",
     "text": [
      "'euc_kr' codec can't encode character '\\u2024' in position 33: illegal multibyte sequence\n",
      "'euc_kr' codec can't encode character '\\u2027' in position 74: illegal multibyte sequence\n"
     ]
    },
    {
     "name": "stderr",
     "output_type": "stream",
     "text": [
      "Some characters could not be decoded, and were replaced with REPLACEMENT CHARACTER.\n"
     ]
    },
    {
     "name": "stdout",
     "output_type": "stream",
     "text": [
      "'euc_kr' codec can't encode character '\\u2024' in position 51: illegal multibyte sequence\n"
     ]
    },
    {
     "name": "stderr",
     "output_type": "stream",
     "text": [
      "Some characters could not be decoded, and were replaced with REPLACEMENT CHARACTER.\n"
     ]
    },
    {
     "name": "stdout",
     "output_type": "stream",
     "text": [
      "'euc_kr' codec can't encode character '\\u2027' in position 15: illegal multibyte sequence\n"
     ]
    },
    {
     "name": "stderr",
     "output_type": "stream",
     "text": [
      "Some characters could not be decoded, and were replaced with REPLACEMENT CHARACTER.\n",
      "Some characters could not be decoded, and were replaced with REPLACEMENT CHARACTER.\n",
      "Some characters could not be decoded, and were replaced with REPLACEMENT CHARACTER.\n"
     ]
    },
    {
     "name": "stdout",
     "output_type": "stream",
     "text": [
      "'euc_kr' codec can't encode character '\\u2027' in position 64: illegal multibyte sequence\n",
      "'euc_kr' codec can't encode character '\\u2027' in position 37: illegal multibyte sequence\n"
     ]
    },
    {
     "name": "stderr",
     "output_type": "stream",
     "text": [
      "Some characters could not be decoded, and were replaced with REPLACEMENT CHARACTER.\n",
      "Some characters could not be decoded, and were replaced with REPLACEMENT CHARACTER.\n"
     ]
    },
    {
     "name": "stdout",
     "output_type": "stream",
     "text": [
      "'euc_kr' codec can't encode character '\\u2027' in position 39: illegal multibyte sequence\n",
      "\n",
      "Loading Corpus at (../data/aihub_corpus\\4.문어체-한국문화.xlsx)\n",
      "Loading Finished\n"
     ]
    },
    {
     "data": {
      "application/vnd.jupyter.widget-view+json": {
       "model_id": "20c2216346974140860766cea0720633",
       "version_major": 2,
       "version_minor": 0
      },
      "text/plain": [
       "HBox(children=(IntProgress(value=1, bar_style='info', max=1), HTML(value='')))"
      ]
     },
     "metadata": {},
     "output_type": "display_data"
    },
    {
     "name": "stdout",
     "output_type": "stream",
     "text": [
      "'euc_kr' codec can't encode character '\\xa0' in position 11: illegal multibyte sequence\n",
      "'euc_kr' codec can't encode character '\\xa0' in position 41: illegal multibyte sequence\n",
      "'euc_kr' codec can't encode character '\\xa0' in position 41: illegal multibyte sequence\n",
      "'euc_kr' codec can't encode character '\\xa0' in position 10: illegal multibyte sequence\n",
      "'euc_kr' codec can't encode character '\\xa0' in position 22: illegal multibyte sequence\n",
      "'euc_kr' codec can't encode character '\\xa0' in position 13: illegal multibyte sequence\n",
      "'euc_kr' codec can't encode character '\\xa0' in position 2: illegal multibyte sequence\n",
      "'euc_kr' codec can't encode character '\\xa0' in position 3: illegal multibyte sequence\n",
      "'euc_kr' codec can't encode character '\\xa0' in position 19: illegal multibyte sequence\n",
      "'euc_kr' codec can't encode character '\\xa0' in position 53: illegal multibyte sequence\n",
      "'euc_kr' codec can't encode character '\\xa0' in position 36: illegal multibyte sequence\n",
      "'euc_kr' codec can't encode character '\\xa0' in position 41: illegal multibyte sequence\n",
      "'euc_kr' codec can't encode character '\\xa0' in position 11: illegal multibyte sequence\n",
      "'euc_kr' codec can't encode character '\\xa0' in position 2: illegal multibyte sequence\n",
      "'euc_kr' codec can't encode character '\\xa0' in position 57: illegal multibyte sequence\n",
      "'euc_kr' codec can't encode character '\\xa0' in position 2: illegal multibyte sequence\n",
      "'euc_kr' codec can't encode character '\\xa0' in position 42: illegal multibyte sequence\n",
      "'euc_kr' codec can't encode character '\\xa0' in position 10: illegal multibyte sequence\n",
      "'euc_kr' codec can't encode character '\\xa0' in position 9: illegal multibyte sequence\n",
      "'euc_kr' codec can't encode character '\\xa0' in position 33: illegal multibyte sequence\n",
      "'euc_kr' codec can't encode character '\\xa0' in position 45: illegal multibyte sequence\n",
      "'euc_kr' codec can't encode character '\\xa0' in position 18: illegal multibyte sequence\n",
      "'euc_kr' codec can't encode character '\\u2022' in position 29: illegal multibyte sequence\n",
      "'euc_kr' codec can't encode character '\\uff62' in position 23: illegal multibyte sequence\n",
      "'euc_kr' codec can't encode character '\\uff62' in position 34: illegal multibyte sequence\n",
      "'euc_kr' codec can't encode character '\\u2022' in position 26: illegal multibyte sequence\n",
      "'euc_kr' codec can't encode character '\\u2024' in position 13: illegal multibyte sequence\n",
      "'euc_kr' codec can't encode character '\\u2024' in position 34: illegal multibyte sequence\n",
      "'euc_kr' codec can't encode character '\\u2024' in position 24: illegal multibyte sequence\n",
      "'euc_kr' codec can't encode character '\\u2024' in position 26: illegal multibyte sequence\n",
      "'euc_kr' codec can't encode character '\\u2027' in position 12: illegal multibyte sequence\n",
      "'euc_kr' codec can't encode character '\\u2027' in position 53: illegal multibyte sequence\n",
      "'euc_kr' codec can't encode character '\\u2027' in position 9: illegal multibyte sequence\n"
     ]
    },
    {
     "name": "stderr",
     "output_type": "stream",
     "text": [
      "Some characters could not be decoded, and were replaced with REPLACEMENT CHARACTER.\n",
      "Some characters could not be decoded, and were replaced with REPLACEMENT CHARACTER.\n",
      "Some characters could not be decoded, and were replaced with REPLACEMENT CHARACTER.\n"
     ]
    },
    {
     "name": "stdout",
     "output_type": "stream",
     "text": [
      "'euc_kr' codec can't encode character '\\xa0' in position 15: illegal multibyte sequence\n",
      "'euc_kr' codec can't encode character '\\xa0' in position 18: illegal multibyte sequence\n",
      "'euc_kr' codec can't encode character '\\xa0' in position 3: illegal multibyte sequence\n",
      "'euc_kr' codec can't encode character '\\xa0' in position 29: illegal multibyte sequence\n",
      "'euc_kr' codec can't encode character '\\xa0' in position 3: illegal multibyte sequence\n",
      "'euc_kr' codec can't encode character '\\xa0' in position 36: illegal multibyte sequence\n",
      "'euc_kr' codec can't encode character '\\xa0' in position 39: illegal multibyte sequence\n",
      "'euc_kr' codec can't encode character '\\xa0' in position 62: illegal multibyte sequence\n",
      "'euc_kr' codec can't encode character '\\xa0' in position 74: illegal multibyte sequence\n",
      "'euc_kr' codec can't encode character '\\xa0' in position 56: illegal multibyte sequence\n",
      "'euc_kr' codec can't encode character '\\xa0' in position 11: illegal multibyte sequence\n",
      "'euc_kr' codec can't encode character '\\xa0' in position 62: illegal multibyte sequence\n",
      "'euc_kr' codec can't encode character '\\xa0' in position 58: illegal multibyte sequence\n",
      "'euc_kr' codec can't encode character '\\xa0' in position 61: illegal multibyte sequence\n"
     ]
    },
    {
     "name": "stderr",
     "output_type": "stream",
     "text": [
      "Some characters could not be decoded, and were replaced with REPLACEMENT CHARACTER.\n"
     ]
    },
    {
     "name": "stdout",
     "output_type": "stream",
     "text": [
      "'euc_kr' codec can't encode character '\\xa0' in position 5: illegal multibyte sequence\n",
      "'euc_kr' codec can't encode character '\\xa0' in position 4: illegal multibyte sequence\n",
      "'euc_kr' codec can't encode character '\\xa0' in position 4: illegal multibyte sequence\n",
      "'euc_kr' codec can't encode character '\\xa0' in position 39: illegal multibyte sequence\n",
      "'euc_kr' codec can't encode character '\\xa0' in position 3: illegal multibyte sequence\n",
      "'euc_kr' codec can't encode character '\\u2027' in position 23: illegal multibyte sequence\n",
      "'euc_kr' codec can't encode character '\\xa0' in position 4: illegal multibyte sequence\n",
      "'euc_kr' codec can't encode character '\\xa0' in position 18: illegal multibyte sequence\n",
      "'euc_kr' codec can't encode character '\\xa0' in position 12: illegal multibyte sequence\n",
      "'euc_kr' codec can't encode character '\\u2027' in position 10: illegal multibyte sequence\n",
      "'euc_kr' codec can't encode character '\\xa0' in position 9: illegal multibyte sequence\n",
      "'euc_kr' codec can't encode character '\\xa0' in position 3: illegal multibyte sequence\n",
      "'euc_kr' codec can't encode character '\\xa0' in position 19: illegal multibyte sequence\n",
      "'euc_kr' codec can't encode character '\\xa0' in position 10: illegal multibyte sequence\n",
      "'euc_kr' codec can't encode character '\\xa0' in position 12: illegal multibyte sequence\n",
      "'euc_kr' codec can't encode character '\\xa0' in position 26: illegal multibyte sequence\n",
      "'euc_kr' codec can't encode character '\\xa0' in position 15: illegal multibyte sequence\n",
      "'euc_kr' codec can't encode character '\\xa0' in position 22: illegal multibyte sequence\n",
      "'euc_kr' codec can't encode character '\\xa0' in position 2: illegal multibyte sequence\n",
      "'euc_kr' codec can't encode character '\\u2013' in position 26: illegal multibyte sequence\n",
      "'euc_kr' codec can't encode character '\\xa0' in position 53: illegal multibyte sequence\n",
      "'euc_kr' codec can't encode character '\\xa0' in position 8: illegal multibyte sequence\n",
      "'euc_kr' codec can't encode character '\\xa0' in position 5: illegal multibyte sequence\n",
      "'euc_kr' codec can't encode character '\\xa0' in position 19: illegal multibyte sequence\n",
      "'euc_kr' codec can't encode character '\\xa0' in position 20: illegal multibyte sequence\n",
      "'euc_kr' codec can't encode character '\\xa0' in position 49: illegal multibyte sequence\n",
      "'euc_kr' codec can't encode character '\\xa0' in position 10: illegal multibyte sequence\n",
      "'euc_kr' codec can't encode character '\\xa0' in position 40: illegal multibyte sequence\n",
      "'euc_kr' codec can't encode character '\\xa0' in position 3: illegal multibyte sequence\n",
      "'euc_kr' codec can't encode character '\\xa0' in position 9: illegal multibyte sequence\n",
      "'euc_kr' codec can't encode character '\\xa0' in position 9: illegal multibyte sequence\n",
      "'euc_kr' codec can't encode character '\\xa0' in position 14: illegal multibyte sequence\n",
      "'euc_kr' codec can't encode character '\\xa0' in position 4: illegal multibyte sequence\n",
      "'euc_kr' codec can't encode character '\\xa0' in position 3: illegal multibyte sequence\n",
      "'euc_kr' codec can't encode character '\\xa0' in position 22: illegal multibyte sequence\n",
      "'euc_kr' codec can't encode character '\\xa0' in position 6: illegal multibyte sequence\n",
      "'euc_kr' codec can't encode character '\\xa0' in position 28: illegal multibyte sequence\n",
      "'euc_kr' codec can't encode character '\\xa0' in position 5: illegal multibyte sequence\n",
      "'euc_kr' codec can't encode character '\\xa0' in position 6: illegal multibyte sequence\n",
      "'euc_kr' codec can't encode character '\\xa0' in position 37: illegal multibyte sequence\n",
      "'euc_kr' codec can't encode character '\\xa0' in position 4: illegal multibyte sequence\n",
      "'euc_kr' codec can't encode character '\\u2013' in position 31: illegal multibyte sequence\n"
     ]
    },
    {
     "name": "stderr",
     "output_type": "stream",
     "text": [
      "Some characters could not be decoded, and were replaced with REPLACEMENT CHARACTER.\n"
     ]
    },
    {
     "name": "stdout",
     "output_type": "stream",
     "text": [
      "'euc_kr' codec can't encode character '\\xa0' in position 2: illegal multibyte sequence\n",
      "'euc_kr' codec can't encode character '\\xa0' in position 13: illegal multibyte sequence\n",
      "'euc_kr' codec can't encode character '\\xa0' in position 4: illegal multibyte sequence\n",
      "'euc_kr' codec can't encode character '\\xa0' in position 4: illegal multibyte sequence\n",
      "'euc_kr' codec can't encode character '\\xa0' in position 13: illegal multibyte sequence\n",
      "'euc_kr' codec can't encode character '\\xa0' in position 14: illegal multibyte sequence\n",
      "'euc_kr' codec can't encode character '\\xa0' in position 35: illegal multibyte sequence\n",
      "'euc_kr' codec can't encode character '\\xa0' in position 33: illegal multibyte sequence\n",
      "'euc_kr' codec can't encode character '\\xa0' in position 8: illegal multibyte sequence\n",
      "'euc_kr' codec can't encode character '\\xa0' in position 25: illegal multibyte sequence\n"
     ]
    },
    {
     "name": "stderr",
     "output_type": "stream",
     "text": [
      "Some characters could not be decoded, and were replaced with REPLACEMENT CHARACTER.\n"
     ]
    },
    {
     "name": "stdout",
     "output_type": "stream",
     "text": [
      "'euc_kr' codec can't encode character '\\xa0' in position 10: illegal multibyte sequence\n",
      "'euc_kr' codec can't encode character '\\xa0' in position 10: illegal multibyte sequence\n",
      "'euc_kr' codec can't encode character '\\xa0' in position 26: illegal multibyte sequence\n",
      "'euc_kr' codec can't encode character '\\u2013' in position 6: illegal multibyte sequence\n",
      "'euc_kr' codec can't encode character '\\xa0' in position 4: illegal multibyte sequence\n",
      "'euc_kr' codec can't encode character '\\xa0' in position 14: illegal multibyte sequence\n",
      "'euc_kr' codec can't encode character '\\xa0' in position 7: illegal multibyte sequence\n",
      "'euc_kr' codec can't encode character '\\xa0' in position 8: illegal multibyte sequence\n",
      "'euc_kr' codec can't encode character '\\xa0' in position 27: illegal multibyte sequence\n",
      "'euc_kr' codec can't encode character '\\xa0' in position 5: illegal multibyte sequence\n",
      "'euc_kr' codec can't encode character '\\xa0' in position 32: illegal multibyte sequence\n",
      "'euc_kr' codec can't encode character '\\xa0' in position 6: illegal multibyte sequence\n",
      "'euc_kr' codec can't encode character '\\u2027' in position 15: illegal multibyte sequence\n",
      "'euc_kr' codec can't encode character '\\xa0' in position 11: illegal multibyte sequence\n",
      "'euc_kr' codec can't encode character '\\xa0' in position 3: illegal multibyte sequence\n",
      "'euc_kr' codec can't encode character '\\xa0' in position 33: illegal multibyte sequence\n",
      "'euc_kr' codec can't encode character '\\xa0' in position 9: illegal multibyte sequence\n",
      "'euc_kr' codec can't encode character '\\xa0' in position 8: illegal multibyte sequence\n",
      "'euc_kr' codec can't encode character '\\xa0' in position 19: illegal multibyte sequence\n",
      "'euc_kr' codec can't encode character '\\xa0' in position 12: illegal multibyte sequence\n",
      "'euc_kr' codec can't encode character '\\xa0' in position 2: illegal multibyte sequence\n",
      "'euc_kr' codec can't encode character '\\xa0' in position 3: illegal multibyte sequence\n",
      "'euc_kr' codec can't encode character '\\xa0' in position 3: illegal multibyte sequence\n",
      "'euc_kr' codec can't encode character '\\xa0' in position 16: illegal multibyte sequence\n",
      "'euc_kr' codec can't encode character '\\xa0' in position 28: illegal multibyte sequence\n",
      "'euc_kr' codec can't encode character '\\u30fb' in position 36: illegal multibyte sequence\n",
      "'euc_kr' codec can't encode character '\\u2219' in position 43: illegal multibyte sequence\n",
      "'euc_kr' codec can't encode character '\\u2219' in position 47: illegal multibyte sequence\n",
      "'euc_kr' codec can't encode character '\\u2219' in position 87: illegal multibyte sequence\n",
      "\n",
      "Loading Corpus at (../data/aihub_corpus\\5.문어체-조례.xlsx)\n",
      "Loading Finished\n"
     ]
    },
    {
     "data": {
      "application/vnd.jupyter.widget-view+json": {
       "model_id": "9be380086dfc418bb6dfff2003014caa",
       "version_major": 2,
       "version_minor": 0
      },
      "text/plain": [
       "HBox(children=(IntProgress(value=1, bar_style='info', max=1), HTML(value='')))"
      ]
     },
     "metadata": {},
     "output_type": "display_data"
    },
    {
     "name": "stderr",
     "output_type": "stream",
     "text": [
      "Some characters could not be decoded, and were replaced with REPLACEMENT CHARACTER.\n",
      "Some characters could not be decoded, and were replaced with REPLACEMENT CHARACTER.\n",
      "Some characters could not be decoded, and were replaced with REPLACEMENT CHARACTER.\n",
      "Some characters could not be decoded, and were replaced with REPLACEMENT CHARACTER.\n"
     ]
    },
    {
     "name": "stdout",
     "output_type": "stream",
     "text": [
      "'euc_kr' codec can't encode character '\\u2219' in position 37: illegal multibyte sequence\n"
     ]
    },
    {
     "name": "stderr",
     "output_type": "stream",
     "text": [
      "Some characters could not be decoded, and were replaced with REPLACEMENT CHARACTER.\n",
      "Some characters could not be decoded, and were replaced with REPLACEMENT CHARACTER.\n",
      "Some characters could not be decoded, and were replaced with REPLACEMENT CHARACTER.\n",
      "Some characters could not be decoded, and were replaced with REPLACEMENT CHARACTER.\n",
      "Some characters could not be decoded, and were replaced with REPLACEMENT CHARACTER.\n"
     ]
    },
    {
     "name": "stdout",
     "output_type": "stream",
     "text": [
      "\n",
      "Loading Corpus at (../data/aihub_corpus\\6.문어체-지자체웹사이트.xlsx)\n",
      "Loading Finished\n"
     ]
    },
    {
     "data": {
      "application/vnd.jupyter.widget-view+json": {
       "model_id": "76243afdc6c249a9a06173793eda5a68",
       "version_major": 2,
       "version_minor": 0
      },
      "text/plain": [
       "HBox(children=(IntProgress(value=1, bar_style='info', max=1), HTML(value='')))"
      ]
     },
     "metadata": {},
     "output_type": "display_data"
    },
    {
     "name": "stderr",
     "output_type": "stream",
     "text": [
      "Some characters could not be decoded, and were replaced with REPLACEMENT CHARACTER.\n"
     ]
    },
    {
     "name": "stdout",
     "output_type": "stream",
     "text": [
      "\n"
     ]
    }
   ],
   "source": [
    "for j, corpus in enumerate(corpus_list):\n",
    "    \n",
    "    print('Loading Corpus at ({})'.format(corpus))\n",
    "    \n",
    "    wb = openpyxl.load_workbook(corpus)   \n",
    "    ws = wb.active\n",
    "    \n",
    "    print('Loading Finished')\n",
    "    \n",
    "    keyword = corpus.split('\\\\')[-1].replace('.xlsx', '')\n",
    "    \n",
    "    eumjul_list = list()\n",
    "    eumun_list = list()\n",
    "    verification_idx_list = list()\n",
    "\n",
    "    try:\n",
    "        eumjul_list = list(np.load(data_path + '{}_eumjul_list.npy'.format(keyword)))\n",
    "        eumun_list = list(np.load(data_path + '{}_eumun_list.npy'.format(keyword)))\n",
    "        verification_idx_list = list(np.load(data_path + '{}_verification_idx_list.npy'.format(keyword)))\n",
    "    except:\n",
    "        \"No past records\"\n",
    "\n",
    "    # Iterate over ws rows\n",
    "    for i, r in tqdm(enumerate(ws.rows)):\n",
    "\n",
    "        try:\n",
    "            if i == 0: \n",
    "                continue\n",
    "                \n",
    "            if len(verification_idx_list) != 0:\n",
    "                if(i < verification_idx_list[-1]):\n",
    "                    continue\n",
    "\n",
    "            if j == 0:\n",
    "                kor = r[1].value\n",
    "            elif j == 1:\n",
    "                kor = r[5].value\n",
    "            elif j == 2:\n",
    "                kor = r[7].value\n",
    "            elif j == 3:\n",
    "                kor = r[2].value\n",
    "            elif j == 4:\n",
    "                kor = r[2].value\n",
    "            elif j == 5:\n",
    "                kor = r[3].value\n",
    "                \n",
    "            euc_kr_encoding = kor.encode('euc-kr')\n",
    "            bytes_string = str(euc_kr_encoding)[1:]\n",
    "            bytes_string = bytes_string.replace(\"'\", '')\n",
    "            bytes_string = bytes_string.replace('\\\\x', '%')\n",
    "            bytes_string = bytes_string.replace(' ', '+')\n",
    "\n",
    "            full_url = url + bytes_string\n",
    "\n",
    "            try:\n",
    "                with urllib.request.urlopen(full_url) as response:\n",
    "\n",
    "                    html = response.read()\n",
    "                    soup = BeautifulSoup(html, 'html.parser')\n",
    "                    try:\n",
    "                        result = soup.find_all('td', 'td2')[2].get_text().strip()\n",
    "                        result += kor[-1]\n",
    "                        result = jamotools.split_syllables(result, 'JAMO')\n",
    "                    except:\n",
    "                        result = ''\n",
    "\n",
    "                if (len(result) !=0) and ord(result[0]) in hangul_range:\n",
    "                    pass\n",
    "                else:\n",
    "                    result = ''\n",
    "            except:\n",
    "                pass\n",
    "\n",
    "            if len(result) != 0:\n",
    "\n",
    "                kor_jamo = jamotools.split_syllables(kor, 'JAMO')\n",
    "\n",
    "                eumjul_list.append(kor_jamo)\n",
    "                eumun_list.append(result)\n",
    "\n",
    "                verification_idx_list.append(i)\n",
    "\n",
    "        except Exception as e:\n",
    "            print(e)\n",
    "            np.save(data_path + '{}_eumjul_list.npy'.format(keyword), eumjul_list)\n",
    "            np.save(data_path + '{}_eumun_list.npy'.format(keyword), eumun_list)\n",
    "            np.save(data_path + '{}_verification_idx_list.npy'.format(keyword), verification_idx_list)\n",
    "            \n",
    "    np.save(data_path + '{}_eumjul_list.npy'.format(keyword), eumjul_list)\n",
    "    np.save(data_path + '{}_eumun_list.npy'.format(keyword), eumun_list)\n",
    "    np.save(data_path + '{}_verification_idx_list.npy'.format(keyword), verification_idx_list)"
   ]
  }
 ],
 "metadata": {
  "kernelspec": {
   "display_name": "Python 3",
   "language": "python",
   "name": "python3"
  },
  "language_info": {
   "codemirror_mode": {
    "name": "ipython",
    "version": 3
   },
   "file_extension": ".py",
   "mimetype": "text/x-python",
   "name": "python",
   "nbconvert_exporter": "python",
   "pygments_lexer": "ipython3",
   "version": "3.7.4"
  }
 },
 "nbformat": 4,
 "nbformat_minor": 2
}
