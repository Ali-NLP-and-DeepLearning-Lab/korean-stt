{
  "nbformat": 4,
  "nbformat_minor": 0,
  "metadata": {
    "colab": {
      "name": "how_to_google_drive_mount.ipynb",
      "version": "0.3.2",
      "provenance": [],
      "collapsed_sections": [],
      "include_colab_link": true
    },
    "kernelspec": {
      "name": "python3",
      "display_name": "Python 3"
    }
  },
  "cells": [
    {
      "cell_type": "markdown",
      "metadata": {
        "id": "view-in-github",
        "colab_type": "text"
      },
      "source": [
        "<a href=\"https://colab.research.google.com/github/Joovvhan/korean-stt/blob/master/song/how_to_google_drive_mount.ipynb\" target=\"_parent\"><img src=\"https://colab.research.google.com/assets/colab-badge.svg\" alt=\"Open In Colab\"/></a>"
      ]
    },
    {
      "cell_type": "code",
      "metadata": {
        "id": "F8-OF06YYGN1",
        "colab_type": "code",
        "colab": {
          "base_uri": "https://localhost:8080/",
          "height": 54
        },
        "outputId": "f67e3f95-0acf-4124-aabb-80130ec91a4b"
      },
      "source": [
        "from google.colab import drive\n",
        "drive.mount('/content/gdrive')"
      ],
      "execution_count": 12,
      "outputs": [
        {
          "output_type": "stream",
          "text": [
            "Drive already mounted at /content/gdrive; to attempt to forcibly remount, call drive.mount(\"/content/gdrive\", force_remount=True).\n"
          ],
          "name": "stdout"
        }
      ]
    },
    {
      "cell_type": "code",
      "metadata": {
        "id": "yGYAbj5TYa5t",
        "colab_type": "code",
        "colab": {
          "base_uri": "https://localhost:8080/",
          "height": 34
        },
        "outputId": "b7fc7884-32e7-4b62-c8cd-2c530d18dad1"
      },
      "source": [
        "import os\n",
        "import numpy as np\n",
        "\n",
        "os.listdir()"
      ],
      "execution_count": 28,
      "outputs": [
        {
          "output_type": "execute_result",
          "data": {
            "text/plain": [
              "['.config', 'gdrive', 'sample_data']"
            ]
          },
          "metadata": {
            "tags": []
          },
          "execution_count": 28
        }
      ]
    },
    {
      "cell_type": "code",
      "metadata": {
        "id": "ZG2wS0EmYkiz",
        "colab_type": "code",
        "colab": {
          "base_uri": "https://localhost:8080/",
          "height": 34
        },
        "outputId": "88190687-dac5-4578-a0b4-05773ff77424"
      },
      "source": [
        "os.listdir('gdrive')"
      ],
      "execution_count": 29,
      "outputs": [
        {
          "output_type": "execute_result",
          "data": {
            "text/plain": [
              "['My Drive', '.Trash']"
            ]
          },
          "metadata": {
            "tags": []
          },
          "execution_count": 29
        }
      ]
    },
    {
      "cell_type": "markdown",
      "metadata": {
        "id": "HoOtZD-GfMqQ",
        "colab_type": "text"
      },
      "source": [
        ""
      ]
    },
    {
      "cell_type": "markdown",
      "metadata": {
        "colab_type": "text",
        "id": "j05A3EOmexth"
      },
      "source": [
        "여러분의 Google Drive에는 kss dataset이 없으므로 아래 코드는 당연히 에러가 날 겁니다. 다음과 같이 kss dataset을 본인 Google Drive에 추가하세요.\n",
        "\n",
        "![](../song/imgs/gd_step_1.PNG)\n",
        "\n",
        "![](../song/imgs/gd_step_2.PNG)\n",
        "\n",
        "![](../song/imgs/gd_step_3.PNG)"
      ]
    },
    {
      "cell_type": "code",
      "metadata": {
        "id": "r6U73eyTYo3y",
        "colab_type": "code",
        "colab": {
          "base_uri": "https://localhost:8080/",
          "height": 34
        },
        "outputId": "1573cfa2-11cc-4ee5-800d-b688ec0cd576"
      },
      "source": [
        "os.listdir('gdrive/My Drive/korean-single-speaker-speech-dataset')"
      ],
      "execution_count": 30,
      "outputs": [
        {
          "output_type": "execute_result",
          "data": {
            "text/plain": [
              "['transcript.v.1.2.txt', 'kss']"
            ]
          },
          "metadata": {
            "tags": []
          },
          "execution_count": 30
        }
      ]
    },
    {
      "cell_type": "code",
      "metadata": {
        "id": "48FXO-K9Znol",
        "colab_type": "code",
        "colab": {
          "base_uri": "https://localhost:8080/",
          "height": 51
        },
        "outputId": "3e317c39-9159-4743-9822-381709d0eb3d"
      },
      "source": [
        "meta_path = 'gdrive/My Drive/korean-single-speaker-speech-dataset/transcript.v.1.2.txt'\n",
        "data_folder = 'gdrive/My Drive/korean-single-speaker-speech-dataset/kss'\n",
        "\n",
        "with open(meta_path, encoding='utf-8') as f:\n",
        "    metadata = np.array([line.strip().split('|') for line in f])\n",
        "#     hours = sum((int(x[2]) for x in metadata)) * frame_shift_ms / (3600 * 1000)\n",
        "#     log('Loaded metadata for %d examples (%.2f hours)' % (len(metadata), hours))\n",
        "\n",
        "# metadata = metadata[:32, :2]\n",
        "\n",
        "max_sequence_len = max(list(map(len, metadata[:, 1])))\n",
        "\n",
        "error_jamos = [5868, 5998, 6046, 6155, 6202, \n",
        "               6654, 6890, 7486, 7502, 7744, \n",
        "               7765, 8267, 9069, 9927, 10437, \n",
        "               10515, 10533, 10606, 10610, 12777]\n",
        "\n",
        "print(metadata.shape)\n",
        "metadata = np.delete(metadata, error_jamos, axis = 0)\n",
        "print(metadata.shape)\n",
        "\n",
        "dataset_size = len(metadata)"
      ],
      "execution_count": 31,
      "outputs": [
        {
          "output_type": "stream",
          "text": [
            "(12853, 5)\n",
            "(12833, 5)\n"
          ],
          "name": "stdout"
        }
      ]
    },
    {
      "cell_type": "code",
      "metadata": {
        "id": "Nie_3iJxatV9",
        "colab_type": "code",
        "colab": {}
      },
      "source": [
        ""
      ],
      "execution_count": 0,
      "outputs": []
    }
  ]
}