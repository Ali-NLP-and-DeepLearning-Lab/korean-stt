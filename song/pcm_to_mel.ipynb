{
 "cells": [
  {
   "cell_type": "code",
   "execution_count": 13,
   "metadata": {},
   "outputs": [],
   "source": [
    "import glob\n",
    "from tqdm import tqdm_notebook as tqdm\n",
    "import matplotlib.pyplot as plt\n",
    "import numpy as np\n",
    "import IPython.display as ipd\n",
    "import re\n",
    "import jamotools\n",
    "import os\n",
    "\n",
    "import numpy as np\n",
    "import scipy as sp\n",
    "import matplotlib.pyplot as plt\n",
    "import librosa"
   ]
  },
  {
   "cell_type": "code",
   "execution_count": 14,
   "metadata": {},
   "outputs": [],
   "source": [
    "data_path = 'D:/aihub/ETRI_metadata.npy'"
   ]
  },
  {
   "cell_type": "code",
   "execution_count": 15,
   "metadata": {},
   "outputs": [],
   "source": [
    "metadata = np.load(data_path)"
   ]
  },
  {
   "cell_type": "code",
   "execution_count": 16,
   "metadata": {},
   "outputs": [],
   "source": [
    "n_mels = 80\n",
    "fs = 16000\n",
    "frame_length_ms = 50\n",
    "frame_shift_ms = 25\n",
    "nsc = int(fs * frame_length_ms / 1000)\n",
    "nov = nsc - int(fs * frame_shift_ms / 1000)\n",
    "nhop = int(fs * frame_shift_ms / 1000)\n",
    "eps = 1e-8\n",
    "db_ref = 160"
   ]
  },
  {
   "cell_type": "code",
   "execution_count": 23,
   "metadata": {
    "scrolled": false
   },
   "outputs": [
    {
     "name": "stdout",
     "output_type": "stream",
     "text": [
      "620799\n"
     ]
    },
    {
     "data": {
      "application/vnd.jupyter.widget-view+json": {
       "model_id": "25f0e1adf98f44cd8209cffa77fd3ec8",
       "version_major": 2,
       "version_minor": 0
      },
      "text/plain": [
       "HBox(children=(IntProgress(value=1, bar_style='info', max=1), HTML(value='')))"
      ]
     },
     "metadata": {},
     "output_type": "display_data"
    },
    {
     "name": "stdout",
     "output_type": "stream",
     "text": [
      "\n"
     ]
    }
   ],
   "source": [
    "print(len(metadata))\n",
    "\n",
    "for i, data in tqdm(enumerate(metadata)):\n",
    "    pcm_path = data[0]\n",
    "    txt_path = data[1]\n",
    "    \n",
    "    mel_dir = '\\\\'.join(pcm_path.replace('aihub\\\\', 'aihub\\\\mel\\\\').split('\\\\')[:-1])\n",
    "    mel_path = pcm_path.replace('aihub\\\\', 'aihub\\\\mel\\\\').replace('.pcm', '.npy')\n",
    "    \n",
    "    if not os.path.exists(mel_dir):\n",
    "        os.makedirs(mel_dir)\n",
    "    \n",
    "    if not os.path.isfile(mel_path):\n",
    "        \n",
    "        try:\n",
    "            with open(pcm_path, 'rb') as pcm_file:\n",
    "                pcm_data = np.fromfile(pcm_file, dtype=np.int16)\n",
    "                y = pcm_data / 2 ** 14\n",
    "\n",
    "                f, t, Zxx = sp.signal.stft(y, fs=fs, nperseg=nsc, noverlap=nov)\n",
    "\n",
    "                Sxx = np.abs(Zxx)\n",
    "\n",
    "                mel_filters = librosa.filters.mel(sr=fs, n_fft=nsc, n_mels=n_mels)\n",
    "                mel_specgram = np.matmul(mel_filters, Sxx)\n",
    "\n",
    "                log_mel_specgram = 20 * np.log10(np.maximum(mel_specgram, eps))\n",
    "                norm_log_mel_specgram = (log_mel_specgram + db_ref) / db_ref\n",
    "\n",
    "                np.save(mel_path, norm_log_mel_specgram)\n",
    "\n",
    "#             plt.figure(figsize=(10,10))\n",
    "#             plt.imshow(norm_log_mel_specgram, origin='lower')\n",
    "#             plt.colorbar()\n",
    "#             plt.show()\n",
    "\n",
    "        except:\n",
    "            print(\"Error found in {}\".format(pcm_path))"
   ]
  }
 ],
 "metadata": {
  "kernelspec": {
   "display_name": "Python 3",
   "language": "python",
   "name": "python3"
  }
 },
 "nbformat": 4,
 "nbformat_minor": 2
}
