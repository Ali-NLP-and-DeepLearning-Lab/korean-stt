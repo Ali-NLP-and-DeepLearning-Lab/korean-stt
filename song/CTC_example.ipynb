{
 "cells": [
  {
   "cell_type": "code",
   "execution_count": 1,
   "metadata": {},
   "outputs": [],
   "source": [
    "import torch\n",
    "import torch.nn as nn"
   ]
  },
  {
   "cell_type": "code",
   "execution_count": 4,
   "metadata": {},
   "outputs": [
    {
     "name": "stdout",
     "output_type": "stream",
     "text": [
      "torch.Size([50, 16, 20])\n",
      "torch.Size([16, 30])\n",
      "tensor([50, 50, 50, 50, 50, 50, 50, 50, 50, 50, 50, 50, 50, 50, 50, 50])\n",
      "tensor([12, 28, 26, 18, 27, 21, 14, 23, 14, 28, 10, 23, 25, 23, 27, 13])\n",
      "tensor(6.1916, grad_fn=<MeanBackward0>)\n"
     ]
    }
   ],
   "source": [
    "T = 50      # Input sequence length\n",
    "C = 20      # Number of classes (including blank)\n",
    "N = 16      # Batch size\n",
    "S = 30      # Target sequence length of longest target in batch\n",
    "S_min = 10  # Minimum target length, for demonstration purposes\n",
    "\n",
    "\n",
    "input = torch.randn(T, N, C).log_softmax(2).detach().requires_grad_()\n",
    "# Initialize random batch of targets (0 = blank, 1:C = classes)\n",
    "target = torch.randint(low=1, high=C, size=(N, S), dtype=torch.long)\n",
    "\n",
    "input_lengths = torch.full(size=(N,), fill_value=T, dtype=torch.long)\n",
    "target_lengths = torch.randint(low=S_min, high=S, size=(N,), dtype=torch.long)\n",
    "ctc_loss = nn.CTCLoss()\n",
    "\n",
    "print(input.shape)\n",
    "\n",
    "print(target.shape)\n",
    "\n",
    "print(input_lengths)\n",
    "print(target_lengths)\n",
    "\n",
    "loss = ctc_loss(input, target, input_lengths, target_lengths)\n",
    "print(loss)\n",
    "loss.backward()"
   ]
  }
 ],
 "metadata": {
  "kernelspec": {
   "display_name": "Python 3",
   "language": "python",
   "name": "python3"
  },
  "language_info": {
   "codemirror_mode": {
    "name": "ipython",
    "version": 3
   },
   "file_extension": ".py",
   "mimetype": "text/x-python",
   "name": "python",
   "nbconvert_exporter": "python",
   "pygments_lexer": "ipython3",
   "version": "3.7.4"
  }
 },
 "nbformat": 4,
 "nbformat_minor": 2
}
