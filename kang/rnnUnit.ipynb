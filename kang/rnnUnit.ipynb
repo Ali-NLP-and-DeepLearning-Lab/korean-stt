{
  "nbformat": 4,
  "nbformat_minor": 0,
  "metadata": {
    "colab": {
      "name": "Untitled4.ipynb",
      "version": "0.3.2",
      "provenance": [],
      "include_colab_link": true
    },
    "kernelspec": {
      "name": "python3",
      "display_name": "Python 3"
    }
  },
  "cells": [
    {
      "cell_type": "markdown",
      "metadata": {
        "id": "view-in-github",
        "colab_type": "text"
      },
      "source": [
        "<a href=\"https://colab.research.google.com/github/Joovvhan/korean-stt/blob/master/kang/rnnUnit.ipynb\" target=\"_parent\"><img src=\"https://colab.research.google.com/assets/colab-badge.svg\" alt=\"Open In Colab\"/></a>"
      ]
    },
    {
      "cell_type": "code",
      "metadata": {
        "id": "9GF1Tm7bfglc",
        "colab_type": "code",
        "colab": {
          "base_uri": "https://localhost:8080/",
          "height": 1000
        },
        "outputId": "b2771c88-56eb-4e7a-8b3d-cbed097ac9ad"
      },
      "source": [
        "import torch\n",
        "import torch.optim\n",
        "import numpy as np \n",
        "char_set = ['h', 'i', 'e', 'l','o']\n",
        "x_data = [[0,1,0,2,3,3]]\n",
        "x_one_hot = [[[1,0,0,0,0], [0,1,0,0,0], [1,0,0,0,0], [0,0,1,0,0],\n",
        "             [0,0,0,1,0], [0,0,0,1,0]]]\n",
        "y_data = [[1,0,2,3,3,4]]\n",
        "\n",
        "input_size = len(char_set)\n",
        "hidden_size = len(char_set)\n",
        "learning_rate = 0.1\n",
        "\n",
        "\n",
        "X = torch.FloatTensor(x_one_hot)\n",
        "Y = torch.LongTensor(y_data)\n",
        "\n",
        "rnn = torch.nn.RNN(input_size, hidden_size, batch_first=True)\n",
        "\n",
        "criterion = torch.nn.CrossEntropyLoss()\n",
        "optimizer = torch.optim.Adam(rnn.parameters(), learning_rate)\n",
        "\n",
        "for i in range(100):\n",
        "  optimizer.zero_grad()\n",
        "  outputs, _status = rnn(X)\n",
        "  loss = criterion(outputs.view(-1, input_size), Y.view(-1))\n",
        "  loss.backward()\n",
        "  optimizer.step()\n",
        "  result = outputs.data.numpy().argmax(axis=2)\n",
        "  result_str = ''.join([char_set[c] for c in np.squeeze(result)])\n",
        "  print(i, \"loss : \",loss.item(), \" prediction : \", result, \" true Y : \", y_data, \" prediction str : \", result_str)\n"
      ],
      "execution_count": 10,
      "outputs": [
        {
          "output_type": "stream",
          "text": [
            "0 loss :  1.5023871660232544  prediction :  [[3 3 3 3 3 3]]  true Y :  [[1, 0, 2, 3, 3, 4]]  prediction str :  llllll\n",
            "1 loss :  1.3443511724472046  prediction :  [[3 3 2 3 3 3]]  true Y :  [[1, 0, 2, 3, 3, 4]]  prediction str :  llelll\n",
            "2 loss :  1.2347151041030884  prediction :  [[1 3 2 3 3 3]]  true Y :  [[1, 0, 2, 3, 3, 4]]  prediction str :  ilelll\n",
            "3 loss :  1.1592987775802612  prediction :  [[1 3 2 3 3 3]]  true Y :  [[1, 0, 2, 3, 3, 4]]  prediction str :  ilelll\n",
            "4 loss :  1.047301173210144  prediction :  [[1 3 2 3 3 3]]  true Y :  [[1, 0, 2, 3, 3, 4]]  prediction str :  ilelll\n",
            "5 loss :  1.0057692527770996  prediction :  [[1 3 2 3 3 4]]  true Y :  [[1, 0, 2, 3, 3, 4]]  prediction str :  ilello\n",
            "6 loss :  0.9408038258552551  prediction :  [[1 0 2 3 3 3]]  true Y :  [[1, 0, 2, 3, 3, 4]]  prediction str :  ihelll\n",
            "7 loss :  0.8864296078681946  prediction :  [[1 0 2 3 3 3]]  true Y :  [[1, 0, 2, 3, 3, 4]]  prediction str :  ihelll\n",
            "8 loss :  0.8458597660064697  prediction :  [[1 0 2 3 3 3]]  true Y :  [[1, 0, 2, 3, 3, 4]]  prediction str :  ihelll\n",
            "9 loss :  0.7989758849143982  prediction :  [[1 0 2 3 3 4]]  true Y :  [[1, 0, 2, 3, 3, 4]]  prediction str :  ihello\n",
            "10 loss :  0.7691277861595154  prediction :  [[1 0 2 3 3 4]]  true Y :  [[1, 0, 2, 3, 3, 4]]  prediction str :  ihello\n",
            "11 loss :  0.7294049263000488  prediction :  [[1 0 2 3 3 4]]  true Y :  [[1, 0, 2, 3, 3, 4]]  prediction str :  ihello\n",
            "12 loss :  0.7045612335205078  prediction :  [[1 0 2 3 3 4]]  true Y :  [[1, 0, 2, 3, 3, 4]]  prediction str :  ihello\n",
            "13 loss :  0.6787621378898621  prediction :  [[1 0 2 3 3 4]]  true Y :  [[1, 0, 2, 3, 3, 4]]  prediction str :  ihello\n",
            "14 loss :  0.66154944896698  prediction :  [[1 0 2 3 3 4]]  true Y :  [[1, 0, 2, 3, 3, 4]]  prediction str :  ihello\n",
            "15 loss :  0.6513826251029968  prediction :  [[1 0 2 3 3 4]]  true Y :  [[1, 0, 2, 3, 3, 4]]  prediction str :  ihello\n",
            "16 loss :  0.6382997035980225  prediction :  [[1 0 2 3 3 4]]  true Y :  [[1, 0, 2, 3, 3, 4]]  prediction str :  ihello\n",
            "17 loss :  0.6232197880744934  prediction :  [[1 0 2 3 3 4]]  true Y :  [[1, 0, 2, 3, 3, 4]]  prediction str :  ihello\n",
            "18 loss :  0.6097817420959473  prediction :  [[1 0 2 3 3 4]]  true Y :  [[1, 0, 2, 3, 3, 4]]  prediction str :  ihello\n",
            "19 loss :  0.5986859798431396  prediction :  [[1 0 2 3 3 4]]  true Y :  [[1, 0, 2, 3, 3, 4]]  prediction str :  ihello\n",
            "20 loss :  0.5894530415534973  prediction :  [[1 0 2 3 3 4]]  true Y :  [[1, 0, 2, 3, 3, 4]]  prediction str :  ihello\n",
            "21 loss :  0.5782266855239868  prediction :  [[1 0 2 3 3 4]]  true Y :  [[1, 0, 2, 3, 3, 4]]  prediction str :  ihello\n",
            "22 loss :  0.5691977739334106  prediction :  [[1 0 2 3 3 4]]  true Y :  [[1, 0, 2, 3, 3, 4]]  prediction str :  ihello\n",
            "23 loss :  0.5647203326225281  prediction :  [[1 0 2 3 3 4]]  true Y :  [[1, 0, 2, 3, 3, 4]]  prediction str :  ihello\n",
            "24 loss :  0.5582225918769836  prediction :  [[1 0 2 3 3 4]]  true Y :  [[1, 0, 2, 3, 3, 4]]  prediction str :  ihello\n",
            "25 loss :  0.5492643713951111  prediction :  [[1 0 2 3 3 4]]  true Y :  [[1, 0, 2, 3, 3, 4]]  prediction str :  ihello\n",
            "26 loss :  0.5430987477302551  prediction :  [[1 0 2 3 3 4]]  true Y :  [[1, 0, 2, 3, 3, 4]]  prediction str :  ihello\n",
            "27 loss :  0.5402432084083557  prediction :  [[1 0 2 3 3 4]]  true Y :  [[1, 0, 2, 3, 3, 4]]  prediction str :  ihello\n",
            "28 loss :  0.5364091992378235  prediction :  [[1 0 2 3 3 4]]  true Y :  [[1, 0, 2, 3, 3, 4]]  prediction str :  ihello\n",
            "29 loss :  0.5310035347938538  prediction :  [[1 0 2 3 3 4]]  true Y :  [[1, 0, 2, 3, 3, 4]]  prediction str :  ihello\n",
            "30 loss :  0.5259178876876831  prediction :  [[1 0 2 3 3 4]]  true Y :  [[1, 0, 2, 3, 3, 4]]  prediction str :  ihello\n",
            "31 loss :  0.5218471884727478  prediction :  [[1 0 2 3 3 4]]  true Y :  [[1, 0, 2, 3, 3, 4]]  prediction str :  ihello\n",
            "32 loss :  0.5188473463058472  prediction :  [[1 0 2 3 3 4]]  true Y :  [[1, 0, 2, 3, 3, 4]]  prediction str :  ihello\n",
            "33 loss :  0.5159956216812134  prediction :  [[1 0 2 3 3 4]]  true Y :  [[1, 0, 2, 3, 3, 4]]  prediction str :  ihello\n",
            "34 loss :  0.512993574142456  prediction :  [[1 0 2 3 3 4]]  true Y :  [[1, 0, 2, 3, 3, 4]]  prediction str :  ihello\n",
            "35 loss :  0.5102345943450928  prediction :  [[1 0 2 3 3 4]]  true Y :  [[1, 0, 2, 3, 3, 4]]  prediction str :  ihello\n",
            "36 loss :  0.5074352622032166  prediction :  [[1 0 2 3 3 4]]  true Y :  [[1, 0, 2, 3, 3, 4]]  prediction str :  ihello\n",
            "37 loss :  0.505329430103302  prediction :  [[1 0 2 3 3 4]]  true Y :  [[1, 0, 2, 3, 3, 4]]  prediction str :  ihello\n",
            "38 loss :  0.5041186213493347  prediction :  [[1 0 2 3 3 4]]  true Y :  [[1, 0, 2, 3, 3, 4]]  prediction str :  ihello\n",
            "39 loss :  0.5027334094047546  prediction :  [[1 0 2 3 3 4]]  true Y :  [[1, 0, 2, 3, 3, 4]]  prediction str :  ihello\n",
            "40 loss :  0.5009785294532776  prediction :  [[1 0 2 3 3 4]]  true Y :  [[1, 0, 2, 3, 3, 4]]  prediction str :  ihello\n",
            "41 loss :  0.49943485856056213  prediction :  [[1 0 2 3 3 4]]  true Y :  [[1, 0, 2, 3, 3, 4]]  prediction str :  ihello\n",
            "42 loss :  0.4980681836605072  prediction :  [[1 0 2 3 3 4]]  true Y :  [[1, 0, 2, 3, 3, 4]]  prediction str :  ihello\n",
            "43 loss :  0.49681782722473145  prediction :  [[1 0 2 3 3 4]]  true Y :  [[1, 0, 2, 3, 3, 4]]  prediction str :  ihello\n",
            "44 loss :  0.49548450112342834  prediction :  [[1 0 2 3 3 4]]  true Y :  [[1, 0, 2, 3, 3, 4]]  prediction str :  ihello\n",
            "45 loss :  0.4941275119781494  prediction :  [[1 0 2 3 3 4]]  true Y :  [[1, 0, 2, 3, 3, 4]]  prediction str :  ihello\n",
            "46 loss :  0.4931812584400177  prediction :  [[1 0 2 3 3 4]]  true Y :  [[1, 0, 2, 3, 3, 4]]  prediction str :  ihello\n",
            "47 loss :  0.49235105514526367  prediction :  [[1 0 2 3 3 4]]  true Y :  [[1, 0, 2, 3, 3, 4]]  prediction str :  ihello\n",
            "48 loss :  0.49149462580680847  prediction :  [[1 0 2 3 3 4]]  true Y :  [[1, 0, 2, 3, 3, 4]]  prediction str :  ihello\n",
            "49 loss :  0.4905942380428314  prediction :  [[1 0 2 3 3 4]]  true Y :  [[1, 0, 2, 3, 3, 4]]  prediction str :  ihello\n",
            "50 loss :  0.48982834815979004  prediction :  [[1 0 2 3 3 4]]  true Y :  [[1, 0, 2, 3, 3, 4]]  prediction str :  ihello\n",
            "51 loss :  0.4891912043094635  prediction :  [[1 0 2 3 3 4]]  true Y :  [[1, 0, 2, 3, 3, 4]]  prediction str :  ihello\n",
            "52 loss :  0.48843392729759216  prediction :  [[1 0 2 3 3 4]]  true Y :  [[1, 0, 2, 3, 3, 4]]  prediction str :  ihello\n",
            "53 loss :  0.48767349123954773  prediction :  [[1 0 2 3 3 4]]  true Y :  [[1, 0, 2, 3, 3, 4]]  prediction str :  ihello\n",
            "54 loss :  0.486919641494751  prediction :  [[1 0 2 3 3 4]]  true Y :  [[1, 0, 2, 3, 3, 4]]  prediction str :  ihello\n",
            "55 loss :  0.4863002300262451  prediction :  [[1 0 2 3 3 4]]  true Y :  [[1, 0, 2, 3, 3, 4]]  prediction str :  ihello\n",
            "56 loss :  0.4856642782688141  prediction :  [[1 0 2 3 3 4]]  true Y :  [[1, 0, 2, 3, 3, 4]]  prediction str :  ihello\n",
            "57 loss :  0.48502957820892334  prediction :  [[1 0 2 3 3 4]]  true Y :  [[1, 0, 2, 3, 3, 4]]  prediction str :  ihello\n",
            "58 loss :  0.48441824316978455  prediction :  [[1 0 2 3 3 4]]  true Y :  [[1, 0, 2, 3, 3, 4]]  prediction str :  ihello\n",
            "59 loss :  0.4838869571685791  prediction :  [[1 0 2 3 3 4]]  true Y :  [[1, 0, 2, 3, 3, 4]]  prediction str :  ihello\n",
            "60 loss :  0.48340678215026855  prediction :  [[1 0 2 3 3 4]]  true Y :  [[1, 0, 2, 3, 3, 4]]  prediction str :  ihello\n",
            "61 loss :  0.48292839527130127  prediction :  [[1 0 2 3 3 4]]  true Y :  [[1, 0, 2, 3, 3, 4]]  prediction str :  ihello\n",
            "62 loss :  0.4824490547180176  prediction :  [[1 0 2 3 3 4]]  true Y :  [[1, 0, 2, 3, 3, 4]]  prediction str :  ihello\n",
            "63 loss :  0.48198404908180237  prediction :  [[1 0 2 3 3 4]]  true Y :  [[1, 0, 2, 3, 3, 4]]  prediction str :  ihello\n",
            "64 loss :  0.4815526008605957  prediction :  [[1 0 2 3 3 4]]  true Y :  [[1, 0, 2, 3, 3, 4]]  prediction str :  ihello\n",
            "65 loss :  0.4811340272426605  prediction :  [[1 0 2 3 3 4]]  true Y :  [[1, 0, 2, 3, 3, 4]]  prediction str :  ihello\n",
            "66 loss :  0.4807148873806  prediction :  [[1 0 2 3 3 4]]  true Y :  [[1, 0, 2, 3, 3, 4]]  prediction str :  ihello\n",
            "67 loss :  0.4802861511707306  prediction :  [[1 0 2 3 3 4]]  true Y :  [[1, 0, 2, 3, 3, 4]]  prediction str :  ihello\n",
            "68 loss :  0.47987231612205505  prediction :  [[1 0 2 3 3 4]]  true Y :  [[1, 0, 2, 3, 3, 4]]  prediction str :  ihello\n",
            "69 loss :  0.4794750511646271  prediction :  [[1 0 2 3 3 4]]  true Y :  [[1, 0, 2, 3, 3, 4]]  prediction str :  ihello\n",
            "70 loss :  0.4790990352630615  prediction :  [[1 0 2 3 3 4]]  true Y :  [[1, 0, 2, 3, 3, 4]]  prediction str :  ihello\n",
            "71 loss :  0.47872909903526306  prediction :  [[1 0 2 3 3 4]]  true Y :  [[1, 0, 2, 3, 3, 4]]  prediction str :  ihello\n",
            "72 loss :  0.47836366295814514  prediction :  [[1 0 2 3 3 4]]  true Y :  [[1, 0, 2, 3, 3, 4]]  prediction str :  ihello\n",
            "73 loss :  0.47800660133361816  prediction :  [[1 0 2 3 3 4]]  true Y :  [[1, 0, 2, 3, 3, 4]]  prediction str :  ihello\n",
            "74 loss :  0.4776592254638672  prediction :  [[1 0 2 3 3 4]]  true Y :  [[1, 0, 2, 3, 3, 4]]  prediction str :  ihello\n",
            "75 loss :  0.47732582688331604  prediction :  [[1 0 2 3 3 4]]  true Y :  [[1, 0, 2, 3, 3, 4]]  prediction str :  ihello\n",
            "76 loss :  0.4769962728023529  prediction :  [[1 0 2 3 3 4]]  true Y :  [[1, 0, 2, 3, 3, 4]]  prediction str :  ihello\n",
            "77 loss :  0.47667255997657776  prediction :  [[1 0 2 3 3 4]]  true Y :  [[1, 0, 2, 3, 3, 4]]  prediction str :  ihello\n",
            "78 loss :  0.47634753584861755  prediction :  [[1 0 2 3 3 4]]  true Y :  [[1, 0, 2, 3, 3, 4]]  prediction str :  ihello\n",
            "79 loss :  0.4760306775569916  prediction :  [[1 0 2 3 3 4]]  true Y :  [[1, 0, 2, 3, 3, 4]]  prediction str :  ihello\n",
            "80 loss :  0.47571754455566406  prediction :  [[1 0 2 3 3 4]]  true Y :  [[1, 0, 2, 3, 3, 4]]  prediction str :  ihello\n",
            "81 loss :  0.4754147529602051  prediction :  [[1 0 2 3 3 4]]  true Y :  [[1, 0, 2, 3, 3, 4]]  prediction str :  ihello\n",
            "82 loss :  0.47511616349220276  prediction :  [[1 0 2 3 3 4]]  true Y :  [[1, 0, 2, 3, 3, 4]]  prediction str :  ihello\n",
            "83 loss :  0.47482433915138245  prediction :  [[1 0 2 3 3 4]]  true Y :  [[1, 0, 2, 3, 3, 4]]  prediction str :  ihello\n",
            "84 loss :  0.47453752160072327  prediction :  [[1 0 2 3 3 4]]  true Y :  [[1, 0, 2, 3, 3, 4]]  prediction str :  ihello\n",
            "85 loss :  0.474257230758667  prediction :  [[1 0 2 3 3 4]]  true Y :  [[1, 0, 2, 3, 3, 4]]  prediction str :  ihello\n",
            "86 loss :  0.47398510575294495  prediction :  [[1 0 2 3 3 4]]  true Y :  [[1, 0, 2, 3, 3, 4]]  prediction str :  ihello\n",
            "87 loss :  0.4737192690372467  prediction :  [[1 0 2 3 3 4]]  true Y :  [[1, 0, 2, 3, 3, 4]]  prediction str :  ihello\n",
            "88 loss :  0.47346141934394836  prediction :  [[1 0 2 3 3 4]]  true Y :  [[1, 0, 2, 3, 3, 4]]  prediction str :  ihello\n",
            "89 loss :  0.473207950592041  prediction :  [[1 0 2 3 3 4]]  true Y :  [[1, 0, 2, 3, 3, 4]]  prediction str :  ihello\n",
            "90 loss :  0.47296062111854553  prediction :  [[1 0 2 3 3 4]]  true Y :  [[1, 0, 2, 3, 3, 4]]  prediction str :  ihello\n",
            "91 loss :  0.47271761298179626  prediction :  [[1 0 2 3 3 4]]  true Y :  [[1, 0, 2, 3, 3, 4]]  prediction str :  ihello\n",
            "92 loss :  0.47248029708862305  prediction :  [[1 0 2 3 3 4]]  true Y :  [[1, 0, 2, 3, 3, 4]]  prediction str :  ihello\n",
            "93 loss :  0.47224846482276917  prediction :  [[1 0 2 3 3 4]]  true Y :  [[1, 0, 2, 3, 3, 4]]  prediction str :  ihello\n",
            "94 loss :  0.472022145986557  prediction :  [[1 0 2 3 3 4]]  true Y :  [[1, 0, 2, 3, 3, 4]]  prediction str :  ihello\n",
            "95 loss :  0.47180137038230896  prediction :  [[1 0 2 3 3 4]]  true Y :  [[1, 0, 2, 3, 3, 4]]  prediction str :  ihello\n",
            "96 loss :  0.4715850353240967  prediction :  [[1 0 2 3 3 4]]  true Y :  [[1, 0, 2, 3, 3, 4]]  prediction str :  ihello\n",
            "97 loss :  0.47137388586997986  prediction :  [[1 0 2 3 3 4]]  true Y :  [[1, 0, 2, 3, 3, 4]]  prediction str :  ihello\n",
            "98 loss :  0.4711667597293854  prediction :  [[1 0 2 3 3 4]]  true Y :  [[1, 0, 2, 3, 3, 4]]  prediction str :  ihello\n",
            "99 loss :  0.47096434235572815  prediction :  [[1 0 2 3 3 4]]  true Y :  [[1, 0, 2, 3, 3, 4]]  prediction str :  ihello\n"
          ],
          "name": "stdout"
        }
      ]
    },
    {
      "cell_type": "code",
      "metadata": {
        "id": "yCpzRgkrklZa",
        "colab_type": "code",
        "colab": {
          "base_uri": "https://localhost:8080/",
          "height": 125
        },
        "outputId": "4aa3dc0a-326e-442c-802f-980439d562c6"
      },
      "source": [
        "from google.colab import drive\n",
        "drive.mount('/content/gdrive')"
      ],
      "execution_count": 18,
      "outputs": [
        {
          "output_type": "stream",
          "text": [
            "Go to this URL in a browser: https://accounts.google.com/o/oauth2/auth?client_id=947318989803-6bn6qk8qdgf4n4g3pfee6491hc0brc4i.apps.googleusercontent.com&redirect_uri=urn%3Aietf%3Awg%3Aoauth%3A2.0%3Aoob&scope=email%20https%3A%2F%2Fwww.googleapis.com%2Fauth%2Fdocs.test%20https%3A%2F%2Fwww.googleapis.com%2Fauth%2Fdrive%20https%3A%2F%2Fwww.googleapis.com%2Fauth%2Fdrive.photos.readonly%20https%3A%2F%2Fwww.googleapis.com%2Fauth%2Fpeopleapi.readonly&response_type=code\n",
            "\n",
            "Enter your authorization code:\n",
            "··········\n",
            "Mounted at /content/gdrive\n"
          ],
          "name": "stdout"
        }
      ]
    },
    {
      "cell_type": "code",
      "metadata": {
        "id": "3OjdqqjfxOYW",
        "colab_type": "code",
        "colab": {
          "base_uri": "https://localhost:8080/",
          "height": 72
        },
        "outputId": "4cfe790a-3d45-4f84-fc15-ccfd573f8a68"
      },
      "source": [
        "from __future__ import unicode_literals, print_function, division\n",
        "from io import open\n",
        "import glob\n",
        "import os\n",
        "import unicodedata\n",
        "import string\n",
        "\n",
        "all_letters = string.ascii_letters + \" .,;'-\"\n",
        "n_letters = len(all_letters) + 1 # Plus EOS marker\n",
        "\n",
        "def findFiles(path): return glob.glob(path)\n",
        "\n",
        "def unicodeToAscii(s):\n",
        "  return ''.join(\n",
        "    c for c in unicodedata.normalize('NFD', s)\n",
        "    if unicodedata.category(c) != 'Mn'\n",
        "    and c in all_letters\n",
        "  )\n",
        "\n",
        "def readLines(filename):\n",
        "  lines = open(filename, encoding='utf-8').read().strip().split('\\n')\n",
        "  return [unicodeToAscii(line) for line in lines]\n",
        "\n",
        "category_lines = {}\n",
        "all_categories = []\n",
        "for filename in findFiles('gdrive/My Drive/data/data/names/*.txt'):\n",
        "  category = os.path.splitext(os.path.basename(filename))[0]\n",
        "  all_categories.append(category)\n",
        "  lines = readLines(filename)\n",
        "  category_lines[category] = lines\n",
        "  \n",
        "n_categories = len(all_categories)\n",
        "\n",
        "if n_categories == 0:\n",
        "  raise RuntimeError('Data not found.')\n",
        "  \n",
        "print('# categories : ', n_categories, all_categories)\n",
        "print(unicodeToAscii(\"O'Néàl\"))"
      ],
      "execution_count": 34,
      "outputs": [
        {
          "output_type": "stream",
          "text": [
            "# categories :  18 ['Korean', 'Polish', 'Scottish', 'Vietnamese', 'Spanish', 'Portuguese', 'Russian', 'English', 'Chinese', 'Dutch', 'Czech', 'French', 'Irish', 'Greek', 'German', 'Italian', 'Japanese', 'Arabic']\n",
            "O'Neal\n"
          ],
          "name": "stdout"
        }
      ]
    },
    {
      "cell_type": "code",
      "metadata": {
        "id": "UwI4JXSKg81f",
        "colab_type": "code",
        "colab": {}
      },
      "source": [
        "import torch\n",
        "import torch.nn as nn\n",
        "\n",
        "class RNN(nn.Module):\n",
        "  def __init__(self, input_size, hidden_size, output_size):\n",
        "    super(RNN, self).__init__()\n",
        "    self.hidden_size = hidden_size\n",
        "    \n",
        "    self.i2h = nn.Linear(n_categories + input_size + hidden_size, hidden_size)\n",
        "    self.i2o = nn.Linear(n_categories + input_size + hidden_size, output_size)\n",
        "    self.o2o = nn.Linear(hidden_size + output_size, output_size)\n",
        "    self.dropout = nn.Dropout(0.1)\n",
        "    self.softmax = nn.LogSoftmax(dim=1)\n",
        "    \n",
        "  def forward(self, category, input, hidden):\n",
        "    input_combined = torch.cat((category, input, hidden), 1)\n",
        "    hidden = self.i2h(input_combined)\n",
        "    output = self.i2o(input_combined)\n",
        "    output_combined = torch.cat((hidden, output), 1)\n",
        "    output = self.o2o(output_combined)\n",
        "    output = self.dropout(output)\n",
        "    output = self.softmax(output)\n",
        "    return output, hidden\n",
        "  \n",
        "  def initHidden(self):\n",
        "    return torch.zeros(1, self.hidden_size)"
      ],
      "execution_count": 0,
      "outputs": []
    },
    {
      "cell_type": "code",
      "metadata": {
        "id": "Q2ZRXupJ2ZlE",
        "colab_type": "code",
        "colab": {}
      },
      "source": [
        "import random\n",
        "\n",
        "#무작위 반환\n",
        "def randomChoice(l):\n",
        "  return l[random.randint(0, len(l) - 1)]\n",
        "\n",
        "#임의의 category, 임의의 line\n",
        "def randomTrainingPair():\n",
        "  category = randomChoice(all_categories)\n",
        "  line = randomChoice(category_lines[category])\n",
        "  return category, line"
      ],
      "execution_count": 0,
      "outputs": []
    },
    {
      "cell_type": "code",
      "metadata": {
        "id": "RxtonUpE4CPr",
        "colab_type": "code",
        "colab": {}
      },
      "source": [
        "#category one-hot vector\n",
        "def categoryTensor(category):\n",
        "  li = all_categories.index(category)\n",
        "  tensor = torch.zeros(1, n_categories)\n",
        "  tensor[0][li] = 1\n",
        "  return tensor\n",
        "\n",
        "#처음부터 마지막(EOS빼고)까지의 one-hot 행렬\n",
        "def inputTensor(line):\n",
        "  tensor = torch.zeros(len(line), 1, n_letters)\n",
        "  for li in range(len(line)):\n",
        "    letter = line[li]\n",
        "    tensor[li][0][all_letters.find(letter)] = 1\n",
        "  return tensor\n",
        "\n",
        "#두번째 문자부터 마지막(EOS)가지의 longTensor\n",
        "def targetTensor(line):\n",
        "  letter_indexes = [all_letters.find(line[li]) for li in range(1, len(line))]\n",
        "  letter_indexes.append(n_letters - 1)\n",
        "  return torch.LongTensor(letter_indexes)\n",
        "\n",
        "#임의의 category에서 category, input, target Tensor를 생성\n",
        "def randomTrainingExample():\n",
        "  category, line = randomTrainingPair()\n",
        "  category_tensor = categoryTensor(category)\n",
        "  input_line_tensor = inputTensor(line)\n",
        "  target_line_tensor = targetTensor(line)\n",
        "  return category_tensor, input_line_tensor, target_line_tensor"
      ],
      "execution_count": 0,
      "outputs": []
    },
    {
      "cell_type": "code",
      "metadata": {
        "id": "RSMCWzt89EXZ",
        "colab_type": "code",
        "colab": {}
      },
      "source": [
        "criterion = nn.NLLLoss()\n",
        "\n",
        "learning_rate = 0.0005\n",
        "\n",
        "#모든 단계에서 예측을 수행 (모든 단계에서 손실 계산)\n",
        "def train(category_tensor, input_line_tensor, target_line_tensor):\n",
        "  target_line_tensor.unsqueeze_(-1)\n",
        "  hidden = rnn.initHidden()\n",
        "  \n",
        "  rnn.zero_grad()\n",
        "  loss = 0\n",
        "  \n",
        "  #손실함수, loss\n",
        "  for i in range(input_line_tensor.size(0)):\n",
        "    output, hidden = rnn(category_tensor, input_line_tensor[i], hidden)\n",
        "    l = criterion(output, target_line_tensor[i])\n",
        "    loss += l\n",
        "    \n",
        "  loss.backward()\n",
        "  \n",
        "  for p in rnn.parameters():\n",
        "    p.data.add_(-learning_rate, p.grad.data)\n",
        "    \n",
        "  return output, loss.item() / input_line_tensor.size(0)\n",
        "    "
      ],
      "execution_count": 0,
      "outputs": []
    },
    {
      "cell_type": "code",
      "metadata": {
        "id": "CWfbjhNQ-g9r",
        "colab_type": "code",
        "colab": {}
      },
      "source": [
        "import time\n",
        "import math\n",
        "\n",
        "#시간을 알기 위해 시간 문자열 반환\n",
        "def timeSince(since):\n",
        "  now = time.time()\n",
        "  s = now - since\n",
        "  m = math.floor(s/60)\n",
        "  s -= m * 60\n",
        "  return '%dm %ds' % (m, s)"
      ],
      "execution_count": 0,
      "outputs": []
    },
    {
      "cell_type": "code",
      "metadata": {
        "id": "97wEE6jv-zTc",
        "colab_type": "code",
        "colab": {
          "base_uri": "https://localhost:8080/",
          "height": 369
        },
        "outputId": "c1215578-b42a-4d20-838b-5efe3d8bf28e"
      },
      "source": [
        "rnn = RNN(n_letters, 128, n_letters)\n",
        "\n",
        "n_iters = 100000\n",
        "print_every = 5000\n",
        "plot_every = 500\n",
        "all_losses = []\n",
        "total_loss = 0\n",
        "\n",
        "start = time.time()\n",
        "\n",
        "#train 호출, print_Every마다 시간과 손실 출력\n",
        "for iter in range(1, n_iters + 1):\n",
        "  output, loss = train(*randomTrainingExample())\n",
        "  total_loss += loss\n",
        "  \n",
        "  if iter % print_every == 0:\n",
        "    print('%s (%d %d%%) %.4f' % (timeSince(start), iter, iter / n_iters * 100, loss))\n",
        "    \n",
        "  #all_losses에 평균 손실 저장\n",
        "  if iter % plot_every == 0:\n",
        "    all_losses.append(total_loss / plot_every)\n",
        "    total_loss = 0"
      ],
      "execution_count": 55,
      "outputs": [
        {
          "output_type": "stream",
          "text": [
            "0m 19s (5000 5%) 2.6444\n",
            "0m 38s (10000 10%) 2.4867\n",
            "0m 58s (15000 15%) 3.9912\n",
            "1m 17s (20000 20%) 2.2756\n",
            "1m 36s (25000 25%) 2.1359\n",
            "1m 55s (30000 30%) 3.2848\n",
            "2m 14s (35000 35%) 2.6175\n",
            "2m 33s (40000 40%) 2.2653\n",
            "2m 52s (45000 45%) 2.3834\n",
            "3m 11s (50000 50%) 2.2265\n",
            "3m 30s (55000 55%) 1.6757\n",
            "3m 49s (60000 60%) 2.8886\n",
            "4m 9s (65000 65%) 2.7583\n",
            "4m 28s (70000 70%) 2.8790\n",
            "4m 47s (75000 75%) 2.3494\n",
            "5m 6s (80000 80%) 2.2666\n",
            "5m 25s (85000 85%) 1.1808\n",
            "5m 44s (90000 90%) 2.8207\n",
            "6m 4s (95000 95%) 3.4138\n",
            "6m 23s (100000 100%) 1.7016\n"
          ],
          "name": "stdout"
        }
      ]
    },
    {
      "cell_type": "code",
      "metadata": {
        "id": "px3ygFOoBDAZ",
        "colab_type": "code",
        "colab": {
          "base_uri": "https://localhost:8080/",
          "height": 286
        },
        "outputId": "a00251c9-d9f5-4669-ecf6-6677b48bfbfd"
      },
      "source": [
        "import matplotlib.pyplot as plt\n",
        "import matplotlib.ticker as ticker\n",
        "\n",
        "plt.figure()\n",
        "plt.plot(all_losses)"
      ],
      "execution_count": 56,
      "outputs": [
        {
          "output_type": "execute_result",
          "data": {
            "text/plain": [
              "[<matplotlib.lines.Line2D at 0x7f210a167080>]"
            ]
          },
          "metadata": {
            "tags": []
          },
          "execution_count": 56
        },
        {
          "output_type": "display_data",
          "data": {
            "image/png": "[encoded data removed]",
            "text/plain": [
              "<Figure size 432x288 with 1 Axes>"
            ]
          },
          "metadata": {
            "tags": []
          }
        }
      ]
    },
    {
      "cell_type": "code",
      "metadata": {
        "id": "nIBNtcmeG56c",
        "colab_type": "code",
        "colab": {
          "base_uri": "https://localhost:8080/",
          "height": 228
        },
        "outputId": "ae309595-b688-4510-866c-2eaf83c535f2"
      },
      "source": [
        "max_length = 20\n",
        "\n",
        "def sample(category, start_letter='A'):\n",
        "  with torch.no_grad(): #history 추적 안해도 됨\n",
        "    category_tensor = categoryTensor(category)\n",
        "    input = inputTensor(start_letter)\n",
        "    hidden = rnn.initHidden()\n",
        "    output_name = start_letter\n",
        "    \n",
        "    for i in range(max_length):\n",
        "      output, hidden = rnn(category_tensor, input[0], hidden)\n",
        "      topv, topi = output.topk(1)\n",
        "      topi = topi[0][0]\n",
        "      if topi == n_letters-1:\n",
        "        break;\n",
        "      else:\n",
        "        letter = all_letters[topi]\n",
        "        output_name += letter\n",
        "      input = inputTensor(letter)\n",
        "    return output_name\n",
        "  \n",
        "#한 카테고리와 여러 시작 문자들에서 샘플 얻기\n",
        "def samples(category, start_letters='ABC'):\n",
        "  for start_letter in start_letters:\n",
        "    print(sample(category, start_letter))\n",
        "    \n",
        "samples('Russian', 'RUS')\n",
        "samples('German', 'GER')\n",
        "samples('Spanish', 'SPA')\n",
        "samples('Chinese', 'CHI')"
      ],
      "execution_count": 58,
      "outputs": [
        {
          "output_type": "stream",
          "text": [
            "Roveri\n",
            "Uarisher\n",
            "Shavavav\n",
            "Gerter\n",
            "Eonter\n",
            "Roste\n",
            "Sara\n",
            "Paner\n",
            "Artaras\n",
            "Cha\n",
            "Han\n",
            "Iu\n"
          ],
          "name": "stdout"
        }
      ]
    }
  ]
}