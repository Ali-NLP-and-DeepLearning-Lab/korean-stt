{
  "nbformat": 4,
  "nbformat_minor": 0,
  "metadata": {
    "colab": {
      "name": "Untitled5.ipynb",
      "version": "0.3.2",
      "provenance": [],
      "include_colab_link": true
    },
    "kernelspec": {
      "name": "python3",
      "display_name": "Python 3"
    },
    "accelerator": "GPU"
  },
  "cells": [
    {
      "cell_type": "markdown",
      "metadata": {
        "id": "view-in-github",
        "colab_type": "text"
      },
      "source": [
        "<a href=\"https://colab.research.google.com/github/Joovvhan/korean-stt/blob/master/kang/rnnNameUnit.ipynb\" target=\"_parent\"><img src=\"https://colab.research.google.com/assets/colab-badge.svg\" alt=\"Open In Colab\"/></a>"
      ]
    },
    {
      "cell_type": "code",
      "metadata": {
        "id": "8qdsTEXsw4SF",
        "colab_type": "code",
        "colab": {
          "base_uri": "https://localhost:8080/",
          "height": 55
        },
        "outputId": "d6a8a215-55c0-4a42-91c2-2b173f9ee2d4"
      },
      "source": [
        "\n",
        "from google.colab import drive\n",
        "drive.mount('/content/gdrive')"
      ],
      "execution_count": 3,
      "outputs": [
        {
          "output_type": "stream",
          "text": [
            "Drive already mounted at /content/gdrive; to attempt to forcibly remount, call drive.mount(\"/content/gdrive\", force_remount=True).\n"
          ],
          "name": "stdout"
        }
      ]
    },
    {
      "cell_type": "code",
      "metadata": {
        "id": "c_zydQDnyTC-",
        "colab_type": "code",
        "colab": {
          "base_uri": "https://localhost:8080/",
          "height": 55
        },
        "outputId": "90931b68-6b21-4631-86a9-b24173b94925"
      },
      "source": [
        "from __future__ import unicode_literals, print_function, division\n",
        "from io import open\n",
        "import glob\n",
        "import os\n",
        "\n",
        "def findFiles(path): return glob.glob(path)\n",
        "print(findFiles('gdrive/My Drive/data/data/names/*.txt'))\n"
      ],
      "execution_count": 6,
      "outputs": [
        {
          "output_type": "stream",
          "text": [
            "['gdrive/My Drive/data/data/names/Arabic.txt', 'gdrive/My Drive/data/data/names/English.txt', 'gdrive/My Drive/data/data/names/Chinese.txt', 'gdrive/My Drive/data/data/names/French.txt', 'gdrive/My Drive/data/data/names/Dutch.txt', 'gdrive/My Drive/data/data/names/Czech.txt', 'gdrive/My Drive/data/data/names/Italian.txt', 'gdrive/My Drive/data/data/names/Greek.txt', 'gdrive/My Drive/data/data/names/Irish.txt', 'gdrive/My Drive/data/data/names/German.txt', 'gdrive/My Drive/data/data/names/Japanese.txt', 'gdrive/My Drive/data/data/names/Korean.txt', 'gdrive/My Drive/data/data/names/Polish.txt', 'gdrive/My Drive/data/data/names/Portuguese.txt', 'gdrive/My Drive/data/data/names/Vietnamese.txt', 'gdrive/My Drive/data/data/names/Russian.txt', 'gdrive/My Drive/data/data/names/Spanish.txt', 'gdrive/My Drive/data/data/names/Scottish.txt']\n"
          ],
          "name": "stdout"
        }
      ]
    },
    {
      "cell_type": "code",
      "metadata": {
        "id": "0FNTBwsfyjaR",
        "colab_type": "code",
        "colab": {
          "base_uri": "https://localhost:8080/",
          "height": 52
        },
        "outputId": "8101bfb0-0ddb-4fb6-909d-ce6daf426983"
      },
      "source": [
        "#데이터 준비\n",
        "import unicodedata\n",
        "import string\n",
        "\n",
        "all_letters = string.ascii_letters + \" .,;''\"\n",
        "n_letters = len(all_letters)\n",
        "\n",
        "def unicodeToAscii(s):\n",
        "  return ''.join(\n",
        "    c for c in unicodedata.normalize('NFD', s)\n",
        "    if unicodedata.category(c) != 'Mn'\n",
        "    and c in all_letters\n",
        "  )\n",
        "\n",
        "\n",
        "category_lines = {}\n",
        "all_categories = []\n",
        "\n",
        "#파일을 읽고 줄 단위로 분리\n",
        "def readLines(filename):\n",
        "  lines = open(filename, encoding='utf-8').read().strip().split('\\n')\n",
        "  return [unicodeToAscii(line) for line in lines]\n",
        "\n",
        "for filename in findFiles('gdrive/My Drive/data/data/names/*.txt'):\n",
        "  category = os.path.splitext(os.path.basename(filename))[0]\n",
        "  all_categories.append(category)\n",
        "  lines = readLines(filename)\n",
        "  category_lines[category] = lines\n",
        "  \n",
        "n_categories = len(all_categories)\n",
        "print(n_categories)\n",
        "print(category_lines['Italian'][:5])"
      ],
      "execution_count": 18,
      "outputs": [
        {
          "output_type": "stream",
          "text": [
            "18\n",
            "['Abandonato', 'Abatangelo', 'Abatantuono', 'Abate', 'Abategiovanni']\n"
          ],
          "name": "stdout"
        }
      ]
    },
    {
      "cell_type": "code",
      "metadata": {
        "id": "V1mtKjFS7RX5",
        "colab_type": "code",
        "colab": {
          "base_uri": "https://localhost:8080/",
          "height": 106
        },
        "outputId": "a3c4e371-b7ef-404b-e24d-f523abb6a2bf"
      },
      "source": [
        "#Tensor로 변경\n",
        "\n",
        "import torch\n",
        "\n",
        "# all_letters로 문자 인덱스 찾기\n",
        "def letterToIndex(letter):\n",
        "  return all_letters.find(letter)\n",
        "\n",
        "#<1*n_letters> Tensor로 변환\n",
        "def letterToTensor(letter):\n",
        "  tensor = torch.zeros(1, n_letters)\n",
        "  tensor[0][letterToIndex(letter)] = 1\n",
        "  return tensor\n",
        "\n",
        "# <line_length * 1 * n_letters> (one-hot벡터의 array로 변경)\n",
        "def lineToTensor(line):\n",
        "  tensor = torch.zeros(len(line), 1, n_letters)\n",
        "  for li, letter in enumerate(line):\n",
        "    tensor[li][0][letterToIndex(letter)] = 1\n",
        "  return tensor\n",
        "\n",
        "print(letterToTensor('J'))\n",
        "print(lineToTensor('Jones').size())"
      ],
      "execution_count": 22,
      "outputs": [
        {
          "output_type": "stream",
          "text": [
            "tensor([[0., 0., 0., 0., 0., 0., 0., 0., 0., 0., 0., 0., 0., 0., 0., 0., 0., 0.,\n",
            "         0., 0., 0., 0., 0., 0., 0., 0., 0., 0., 0., 0., 0., 0., 0., 0., 0., 1.,\n",
            "         0., 0., 0., 0., 0., 0., 0., 0., 0., 0., 0., 0., 0., 0., 0., 0., 0., 0.,\n",
            "         0., 0., 0., 0.]])\n",
            "torch.Size([5, 1, 58])\n"
          ],
          "name": "stdout"
        }
      ]
    },
    {
      "cell_type": "code",
      "metadata": {
        "id": "oINZPK9R80ze",
        "colab_type": "code",
        "colab": {
          "base_uri": "https://localhost:8080/",
          "height": 230
        },
        "outputId": "64c53131-3efe-43cf-f5f6-04f036f214ca"
      },
      "source": [
        "#RNN 수행\n",
        "\n",
        "import torch.nn as nn\n",
        "\n",
        "class RNN(nn.Module):\n",
        "  def __init__(self, inputSize, hiddenSize, outputSize):\n",
        "    super(RNN, self).__init__()\n",
        "    \n",
        "    self.hiddenSize = hiddenSize\n",
        "    \n",
        "    self.inputToHidden = nn.Linear(inputSize + hiddenSize, hiddenSize)\n",
        "    self.inputToOutput = nn.Linear(inputSize + hiddenSize, outputSize)\n",
        "    self.softmax = nn.LogSoftmax(dim=1)\n",
        "  \n",
        "  def forward(self, input, hidden):\n",
        "    combined = torch.cat((input, hidden), 1)\n",
        "    hidden = self.inputToHidden(combined)\n",
        "    output = self.inputToOutput(combined)\n",
        "    output = self.softmax(output)\n",
        "    return output, hidden\n",
        "  \n",
        "  def initHidden(self):\n",
        "    return torch.zeros(1, self.hiddenSize)\n",
        "  \n",
        "n_hidden = 128\n",
        "rnn = RNN(n_letters, n_hidden, n_categories)\n",
        "print(rnn)\n",
        "input = letterToTensor('A')\n",
        "hidden = torch.zeros(1, n_hidden)\n",
        "\n",
        "print('start rn')\n",
        "output, next_hidden = rnn(input, hidden)\n",
        "print(output)\n",
        "\n",
        "input = lineToTensor('Albert')\n",
        "hidden = torch.zeros(1, n_hidden)\n",
        "\n",
        "output, next_hidden = rnn(input[0], hidden)\n",
        "print(output)"
      ],
      "execution_count": 47,
      "outputs": [
        {
          "output_type": "stream",
          "text": [
            "RNN(\n",
            "  (inputToHidden): Linear(in_features=186, out_features=128, bias=True)\n",
            "  (inputToOutput): Linear(in_features=186, out_features=18, bias=True)\n",
            "  (softmax): LogSoftmax()\n",
            ")\n",
            "start rn\n",
            "tensor([[-2.8704, -2.9595, -2.9635, -3.0341, -3.0048, -2.8132, -2.8163, -2.9142,\n",
            "         -2.9404, -2.7916, -2.9140, -2.7931, -2.8894, -2.8263, -2.8567, -2.8303,\n",
            "         -2.9957, -2.8623]], grad_fn=<LogSoftmaxBackward>)\n",
            "tensor([[-2.8704, -2.9595, -2.9635, -3.0341, -3.0048, -2.8132, -2.8163, -2.9142,\n",
            "         -2.9404, -2.7916, -2.9140, -2.7931, -2.8894, -2.8263, -2.8567, -2.8303,\n",
            "         -2.9957, -2.8623]], grad_fn=<LogSoftmaxBackward>)\n"
          ],
          "name": "stdout"
        }
      ]
    },
    {
      "cell_type": "code",
      "metadata": {
        "id": "oqs8F6S4-snO",
        "colab_type": "code",
        "colab": {
          "base_uri": "https://localhost:8080/",
          "height": 266
        },
        "outputId": "6cfa26d0-c5f0-45f7-ccea-f2cf1407f5f5"
      },
      "source": [
        "#학습\n",
        "\n",
        "print(output)\n",
        "#가장 확률이 높은 카테고리 이름과 번호 반환\n",
        "def categoryFromOutput(output):\n",
        "  top_n, top_i = output.topk(1) #tensor의 가장 큰 값 및 주소\n",
        "  category_i = top_i[0].item() # tensor에서 정수 값으로 변경\n",
        "  return all_categories[category_i], category_i\n",
        "\n",
        "print(categoryFromOutput(output))\n",
        "\n",
        "\n",
        "#랜덤으로 학습예시를 빠르게 얻기\n",
        "import random\n",
        "\n",
        "def randomChoice(l):\n",
        "  return l[random.randint(0, len(l) - 1)]\n",
        "\n",
        "def randomTrainingExample():\n",
        "  category = randomChoice(all_categories)\n",
        "  line = randomChoice(category_lines[category])\n",
        "  category_tensor = torch.tensor([all_categories.index(category)], dtype=torch.long)\n",
        "  line_tensor = lineToTensor(line)\n",
        "  return category, line, category_tensor, line_tensor\n",
        "\n",
        "for i in range(10):\n",
        "  category, line, category_tensor, line_tensor = randomTrainingExample()\n",
        "  print('category = ', category, '/ line = ', line)"
      ],
      "execution_count": 48,
      "outputs": [
        {
          "output_type": "stream",
          "text": [
            "tensor([[-2.8704, -2.9595, -2.9635, -3.0341, -3.0048, -2.8132, -2.8163, -2.9142,\n",
            "         -2.9404, -2.7916, -2.9140, -2.7931, -2.8894, -2.8263, -2.8567, -2.8303,\n",
            "         -2.9957, -2.8623]], grad_fn=<LogSoftmaxBackward>)\n",
            "('German', 9)\n",
            "category =  French / line =  Poirier\n",
            "category =  Irish / line =  O'Boyle\n",
            "category =  German / line =  Wang\n",
            "category =  Russian / line =  Vaistuh\n",
            "category =  Czech / line =  Fillipova\n",
            "category =  Russian / line =  Billevich\n",
            "category =  Russian / line =  Zholtovsky\n",
            "category =  Portuguese / line =  Ferreira\n",
            "category =  Spanish / line =  Santos\n",
            "category =  Greek / line =  Kaloxylos\n"
          ],
          "name": "stdout"
        }
      ]
    },
    {
      "cell_type": "code",
      "metadata": {
        "id": "pCor6k2qAE03",
        "colab_type": "code",
        "colab": {}
      },
      "source": [
        "#네트워크 학습\n",
        "#RNN의 마지막 계층이 nn.LogSoftmax니까 손실함수로는 nn.NLLLoss가 적합하다고 한다.\n",
        "\n",
        "criterion = nn.NLLLoss()\n",
        "\n",
        "#1. input, output Tensor 생성\n",
        "#2. 0으로 초기화 된 hidden 생성\n",
        "#3. 각 문자를 읽고, 다음 문자를 위한 hidden 상태 유지\n",
        "#4. 목표와 최종 출력 비교\n",
        "#5. backward\n",
        "#6. 출력과 loss 반환\n",
        "\n",
        "learning_rate = 0.005\n",
        "\n",
        "def train(category_tensor, line_tensor):\n",
        "  hidden = rnn.initHidden()\n",
        "  \n",
        "  rnn.zero_grad()\n",
        "  \n",
        "  for i in range(line_tensor.size()[0]):\n",
        "    output, hidden = rnn(line_tensor[i], hidden)\n",
        "    \n",
        "  loss = criterion(output, category_tensor)\n",
        "  loss.backward()\n",
        "  \n",
        "  for p in rnn.parameters():\n",
        "    p.data.add_(-learning_rate, p.grad.data)\n",
        "    \n",
        "  return output, loss.item()"
      ],
      "execution_count": 0,
      "outputs": []
    },
    {
      "cell_type": "code",
      "metadata": {
        "id": "PgrA5-gxDFr2",
        "colab_type": "code",
        "colab": {
          "base_uri": "https://localhost:8080/",
          "height": 372
        },
        "outputId": "53c50a9d-557a-4a16-b59e-2c14e3031fdb"
      },
      "source": [
        "import time\n",
        "import math\n",
        "\n",
        "n_iters = 100000\n",
        "print_every = 5000\n",
        "plot_every = 1000\n",
        "\n",
        "current_loss = 0\n",
        "all_losses = []\n",
        "\n",
        "def timeSince(since):\n",
        "  now = time.time()\n",
        "  s = now - since\n",
        "  m = math.floor(s/60)\n",
        "  s -= m * 60\n",
        "  return '%dm %ds' %(m, s)\n",
        "\n",
        "start = time.time()\n",
        "\n",
        "for iter in range(1, n_iters + 1):\n",
        "  category, line, category_tensor, line_tensor = randomTrainingExample()\n",
        "  output, loss = train(category_tensor, line_tensor)\n",
        "  current_loss += loss\n",
        "  \n",
        "  if iter % print_every == 0:\n",
        "    guess, guess_i = categoryFromOutput(output)\n",
        "    correct = 'check' if guess == category else 'false (%s)' % category\n",
        "    print('%d %d%% (%s) %.4f %s / %s %s' % (iter, iter/ n_iters*100,\n",
        "                       timeSince(start), loss, line, guess, correct))\n",
        "    \n",
        "    if iter % plot_every == 0:\n",
        "      all_losses.append(current_loss/ plot_every)\n",
        "      current_loss = 0"
      ],
      "execution_count": 50,
      "outputs": [
        {
          "output_type": "stream",
          "text": [
            "5000 5% (0m 5s) 3.1887 Theohari / Spanish false (Greek)\n",
            "10000 10% (0m 11s) 2.3540 Jordan / Scottish false (Polish)\n",
            "15000 15% (0m 17s) 2.9365 Wojda / Spanish false (Polish)\n",
            "20000 20% (0m 23s) 1.7276 Stoep / Dutch check\n",
            "25000 25% (0m 28s) 0.7501 Araujo / Portuguese check\n",
            "30000 30% (0m 34s) 0.5299 Otsuka / Japanese check\n",
            "35000 35% (0m 40s) 1.1122 Shi / Korean false (Chinese)\n",
            "40000 40% (0m 46s) 1.1910 Kreskas / Greek check\n",
            "45000 45% (0m 51s) 0.5560 Sinclair / Scottish check\n",
            "50000 50% (0m 57s) 0.8997 Ramires / Portuguese check\n",
            "55000 55% (1m 3s) 1.8106 Neskrebin / German false (Russian)\n",
            "60000 60% (1m 9s) 0.8566 Kuffel / Czech check\n",
            "65000 65% (1m 15s) 3.9746 Bartosz / Spanish false (Polish)\n",
            "70000 70% (1m 21s) 1.6664 Pae / Vietnamese false (Korean)\n",
            "75000 75% (1m 26s) 6.4163 Altshuler / German false (Russian)\n",
            "80000 80% (1m 32s) 1.4351 Rodwell / Scottish false (English)\n",
            "85000 85% (1m 38s) 0.1269 Byon / Korean check\n",
            "90000 90% (1m 44s) 1.6853 Tadhg / Arabic false (Irish)\n",
            "95000 95% (1m 49s) 1.7321 Van tonder / Czech false (German)\n",
            "100000 100% (1m 55s) 0.5876 Venn / Dutch check\n"
          ],
          "name": "stdout"
        }
      ]
    },
    {
      "cell_type": "code",
      "metadata": {
        "id": "3pfD9SnEEEf9",
        "colab_type": "code",
        "colab": {
          "base_uri": "https://localhost:8080/",
          "height": 287
        },
        "outputId": "3a1b953d-207e-4324-f0c4-3e74f43b609a"
      },
      "source": [
        "import matplotlib.pyplot as plt\n",
        "import matplotlib.ticker as ticker\n",
        "\n",
        "plt.figure()\n",
        "plt.plot(all_losses)"
      ],
      "execution_count": 52,
      "outputs": [
        {
          "output_type": "execute_result",
          "data": {
            "text/plain": [
              "[<matplotlib.lines.Line2D at 0x7fc21059ef98>]"
            ]
          },
          "metadata": {
            "tags": []
          },
          "execution_count": 52
        },
        {
          "output_type": "display_data",
          "data": {
            "image/png": "[encoded data removed]",
            "text/plain": [
              "<Figure size 432x288 with 1 Axes>"
            ]
          },
          "metadata": {
            "tags": []
          }
        }
      ]
    },
    {
      "cell_type": "code",
      "metadata": {
        "id": "zAg4mU7YE3E_",
        "colab_type": "code",
        "colab": {
          "base_uri": "https://localhost:8080/",
          "height": 321
        },
        "outputId": "49b82973-b107-43f5-eb5d-96628d7f8b8c"
      },
      "source": [
        "# 다른 카테고리에서 잘 작동하는지 확인하기 위해 실제 행이 네트워크에서 어떤 언어로\n",
        "# 추측 되는 지를 확인 하기 위한 confusion matrix\n",
        "confusion = torch.zeros(n_categories, n_categories)\n",
        "n_confusion = 10000\n",
        "\n",
        "# 라인의 출력\n",
        "def evaluate(line_tensor):\n",
        "  hidden = rnn.initHidden()\n",
        "  for i in range(line_tensor.size()[0]):\n",
        "    output, hidden = rnn(line_tensor[i], hidden)\n",
        "  return output\n",
        "\n",
        "#예시들 중에서 어떤 것이 정확한지를 기록\n",
        "for i in range(n_confusion):\n",
        "  category, line, category_tensor, line_tensor = randomTrainingExample()\n",
        "  output = evaluate(line_tensor)\n",
        "  guess, guess_i = categoryFromOutput(output)\n",
        "  category_i = all_categories.index(category)\n",
        "  confusion[category_i][guess_i] += 1\n",
        "  \n",
        "#정규화\n",
        "for i in range(n_categories):\n",
        "  confusion[i] = confusion[i] / confusion[i].sum()\n",
        "  \n",
        "fig = plt.figure()\n",
        "ax = fig.add_subplot(111)\n",
        "cax = ax.matshow(confusion.numpy())\n",
        "fig.colorbar(cax)\n",
        "\n",
        "ax.set_xticklabels(['']+all_categories, rotation=90)\n",
        "ax.set_yticklabels(['']+all_categories)\n",
        "\n",
        "ax.xaxis.set_major_locator(ticker.MultipleLocator(1))\n",
        "ax.yaxis.set_major_locator(ticker.MultipleLocator(1))\n",
        "\n",
        "plt.show()"
      ],
      "execution_count": 55,
      "outputs": [
        {
          "output_type": "display_data",
          "data": {
            "image/png": "[encoded data removed]",
            "text/plain": [
              "<Figure size 432x288 with 2 Axes>"
            ]
          },
          "metadata": {
            "tags": []
          }
        }
      ]
    }
  ]
}