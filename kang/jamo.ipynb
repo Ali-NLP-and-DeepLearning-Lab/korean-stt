{
  "nbformat": 4,
  "nbformat_minor": 0,
  "metadata": {
    "colab": {
      "name": "Untitled8.ipynb",
      "version": "0.3.2",
      "provenance": [],
      "include_colab_link": true
    },
    "kernelspec": {
      "name": "python3",
      "display_name": "Python 3"
    }
  },
  "cells": [
    {
      "cell_type": "markdown",
      "metadata": {
        "id": "view-in-github",
        "colab_type": "text"
      },
      "source": [
        "<a href=\"https://colab.research.google.com/github/Joovvhan/korean-stt/blob/master/kang/jamo.ipynb\" target=\"_parent\"><img src=\"https://colab.research.google.com/assets/colab-badge.svg\" alt=\"Open In Colab\"/></a>"
      ]
    },
    {
      "cell_type": "code",
      "metadata": {
        "id": "n7gh01IoRN_9",
        "colab_type": "code",
        "colab": {
          "base_uri": "https://localhost:8080/",
          "height": 107
        },
        "outputId": "49c4ca7f-3f3a-4005-a476-fc9b277f9bd7"
      },
      "source": [
        "pip install jamotools"
      ],
      "execution_count": 10,
      "outputs": [
        {
          "output_type": "stream",
          "text": [
            "Requirement already satisfied: jamotools in /usr/local/lib/python3.6/dist-packages (0.1.10)\n",
            "Requirement already satisfied: six in /usr/local/lib/python3.6/dist-packages (from jamotools) (1.12.0)\n",
            "Requirement already satisfied: numpy in /usr/local/lib/python3.6/dist-packages (from jamotools) (1.16.4)\n",
            "Requirement already satisfied: future in /usr/local/lib/python3.6/dist-packages (from jamotools) (0.16.0)\n"
          ],
          "name": "stdout"
        }
      ]
    },
    {
      "cell_type": "code",
      "metadata": {
        "id": "yDbaaQsCS3kr",
        "colab_type": "code",
        "colab": {
          "base_uri": "https://localhost:8080/",
          "height": 70
        },
        "outputId": "aee04ae9-5b15-4ce9-978d-3fe598d618f1"
      },
      "source": [
        "import jamotools\n",
        "print(jamotools.split_syllable_char(u\"안\"))\n",
        "print(jamotools.split_syllables(u\"안녕하세요\"))\n",
        "\n",
        "s = jamotools.join_jamos(\"ㅇㅏㄴ ㄴㅕㅇ\")\n",
        "print(s)\n",
        "\n",
        "\n",
        "#걍 끝나버린 거시엇다"
      ],
      "execution_count": 12,
      "outputs": [
        {
          "output_type": "stream",
          "text": [
            "('ᄋ', 'ᅡ', 'ᆫ')\n",
            "ㅇㅏㄴㄴㅕㅇㅎㅏㅅㅔㅇㅛ\n",
            "안 녕\n"
          ],
          "name": "stdout"
        }
      ]
    }
  ]
}