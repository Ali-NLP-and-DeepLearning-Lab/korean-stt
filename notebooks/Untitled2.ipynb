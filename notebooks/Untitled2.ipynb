{
 "cells": [
  {
   "cell_type": "code",
   "execution_count": null,
   "metadata": {},
   "outputs": [],
   "source": [
    "\n",
    "class Sentence_Batch_Loader():\n",
    "    def __init__(self, sentence_pairs, shuffle_step = 12, batch_size = 1000):\n",
    "        super(Batch_Loader).__init__()\n",
    "        self.sentence_pairs = sentence_pairs\n",
    "        self.total_num_input = len(sentence_pairs)\n",
    "        self.shuffle_step = shuffle_step\n",
    "        self.end_flag = True\n",
    "        self.batch_size = batch_size\n",
    "        self.current_loading_index = 0\n",
    "    \n",
    "    def get_batch(self):\n",
    "        \n",
    "        character_sentence_list = list()\n",
    "        character_sentence_length_list = list()\n",
    "\n",
    "        count = 0\n",
    "        max_sentence_len = 0\n",
    "        \n",
    "        for i in range(self.batch_size):\n",
    "            \n",
    "            \n",
    "            pair = self.sentence_pairs[self.current_loading_index]\n",
    "            eumjul = pair[0]\n",
    "            eumun = pair[1]\n",
    "            \n",
    "            eumjul_list.append(eumjul)\n",
    "            eumun_list.append(eumun)\n",
    "            \n",
    "            eumjul_length_list.append(len(eumjul))\n",
    "            eumun_length_list.append(len(eumun))\n",
    "            \n",
    "            if (len(eumjul) > max_eumjul_len):\n",
    "                max_eumjul_len = len(eumjul)\n",
    "            if (len(eumun) > max_eumun_len):\n",
    "                max_eumun_len = len(eumun)  \n",
    "            \n",
    "            self.current_loading_index += 1\n",
    "            count += 1\n",
    "            \n",
    "        batched_eumjul = torch.zeros(count, max_eumjul_len)\n",
    "        batched_eumun = torch.zeros(count, max_eumun_len)\n",
    "        batched_loss_mask = torch.zeros(count, max_eumjul_len)\n",
    "        \n",
    "#         print(eumjul_list)\n",
    "        \n",
    "        for order in range(count):\n",
    "        \n",
    "            batched_eumjul[order, :eumjul_length_list[order]] = torch.tensor(eumjul_list[order])\n",
    "            batched_eumun[order, :eumun_length_list[order]] = torch.tensor(eumun_list[order])\n",
    "            batched_loss_mask[order, :eumjul_length_list[order]] = torch.ones(eumjul_length_list[order])\n",
    "        \n",
    "        return batched_eumjul, batched_eumun, batched_loss_mask\n",
    "    \n",
    "##########################"
   ]
  }
 ],
 "metadata": {
  "kernelspec": {
   "display_name": "Python 3",
   "language": "python",
   "name": "python3"
  },
  "language_info": {
   "codemirror_mode": {
    "name": "ipython",
    "version": 3
   },
   "file_extension": ".py",
   "mimetype": "text/x-python",
   "name": "python",
   "nbconvert_exporter": "python",
   "pygments_lexer": "ipython3",
   "version": "3.7.4"
  }
 },
 "nbformat": 4,
 "nbformat_minor": 2
}
