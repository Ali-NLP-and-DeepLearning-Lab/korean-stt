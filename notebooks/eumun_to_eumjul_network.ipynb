{
  "nbformat": 4,
  "nbformat_minor": 0,
  "metadata": {
    "colab": {
      "name": "eumun-to-eumjul-network.ipynb",
      "version": "0.3.2",
      "provenance": [],
      "collapsed_sections": [],
      "include_colab_link": true
    },
    "kernelspec": {
      "name": "python3",
      "display_name": "Python 3"
    },
    "accelerator": "GPU"
  },
  "cells": [
    {
      "cell_type": "markdown",
      "metadata": {
        "id": "view-in-github",
        "colab_type": "text"
      },
      "source": [
        "<a href=\"https://colab.research.google.com/github/Joovvhan/korean-stt/blob/master/notebooks/eumun_to_eumjul_network.ipynb\" target=\"_parent\"><img src=\"https://colab.research.google.com/assets/colab-badge.svg\" alt=\"Open In Colab\"/></a>"
      ]
    },
    {
      "cell_type": "code",
      "metadata": {
        "id": "aNvwmq5NO9dK",
        "colab_type": "code",
        "colab": {}
      },
      "source": [
        "import torch\n",
        "import torch.nn as nn\n",
        "from torch import optim\n",
        "import torch.nn.functional as F\n",
        "\n",
        "import numpy as np\n",
        "import copy\n",
        "import matplotlib.pyplot as plt\n",
        "import random\n",
        "\n",
        "from tqdm import tqdm_notebook as tqdm\n",
        "from datetime import datetime"
      ],
      "execution_count": 0,
      "outputs": []
    },
    {
      "cell_type": "code",
      "metadata": {
        "id": "wEQYBxkiNI19",
        "colab_type": "code",
        "colab": {
          "base_uri": "https://localhost:8080/",
          "height": 34
        },
        "outputId": "9b60ea28-6730-4614-81e3-e70f8fece8e3"
      },
      "source": [
        "from google.colab import drive\n",
        "drive.mount('/content/gdrive', force_remount=True)"
      ],
      "execution_count": 2,
      "outputs": [
        {
          "output_type": "stream",
          "text": [
            "Mounted at /content/gdrive\n"
          ],
          "name": "stdout"
        }
      ]
    },
    {
      "cell_type": "code",
      "metadata": {
        "id": "B7Z2dkFOP1Xo",
        "colab_type": "code",
        "colab": {}
      },
      "source": [
        "data_path = 'gdrive/My Drive/korean-single-speaker-speech-dataset/eumjul_eumun_pairs.npy'\n",
        "\n",
        "pairs = np.load(data_path)"
      ],
      "execution_count": 0,
      "outputs": []
    },
    {
      "cell_type": "code",
      "metadata": {
        "id": "UePWxpWWSUnc",
        "colab_type": "code",
        "colab": {
          "base_uri": "https://localhost:8080/",
          "height": 71
        },
        "outputId": "d42592b7-3b55-4e23-8ae6-ac89cf8a27f4"
      },
      "source": [
        "unicode_jamo_list = list()\n",
        "for unicode in range(0x1100, 0x1113):\n",
        "    unicode_jamo_list.append(chr(unicode))\n",
        "    \n",
        "for unicode in range(0x1161, 0x1176):\n",
        "    unicode_jamo_list.append(chr(unicode))\n",
        "    \n",
        "for unicode in range(0x11A8, 0x11C3):\n",
        "    unicode_jamo_list.append(chr(unicode))\n",
        "    \n",
        "unicode_jamo_list += [' ', '!', ',', '.', '?', '<sos>', '<eos>']\n",
        "# unicode_jamo_list += [' ', '!', ',', '.', '?', '<eos>']\n",
        "    \n",
        "unicode_jamo_list.sort()\n",
        "\n",
        "# unicode_jamo_list = ['-'] + unicode_jamo_list\n",
        "\n",
        "print(unicode_jamo_list)\n",
        "print(len(unicode_jamo_list))"
      ],
      "execution_count": 4,
      "outputs": [
        {
          "output_type": "stream",
          "text": [
            "[' ', '!', ',', '.', '<eos>', '<sos>', '?', 'ᄀ', 'ᄁ', 'ᄂ', 'ᄃ', 'ᄄ', 'ᄅ', 'ᄆ', 'ᄇ', 'ᄈ', 'ᄉ', 'ᄊ', 'ᄋ', 'ᄌ', 'ᄍ', 'ᄎ', 'ᄏ', 'ᄐ', 'ᄑ', 'ᄒ', 'ᅡ', 'ᅢ', 'ᅣ', 'ᅤ', 'ᅥ', 'ᅦ', 'ᅧ', 'ᅨ', 'ᅩ', 'ᅪ', 'ᅫ', 'ᅬ', 'ᅭ', 'ᅮ', 'ᅯ', 'ᅰ', 'ᅱ', 'ᅲ', 'ᅳ', 'ᅴ', 'ᅵ', 'ᆨ', 'ᆩ', 'ᆪ', 'ᆫ', 'ᆬ', 'ᆭ', 'ᆮ', 'ᆯ', 'ᆰ', 'ᆱ', 'ᆲ', 'ᆳ', 'ᆴ', 'ᆵ', 'ᆶ', 'ᆷ', 'ᆸ', 'ᆹ', 'ᆺ', 'ᆻ', 'ᆼ', 'ᆽ', 'ᆾ', 'ᆿ', 'ᇀ', 'ᇁ', 'ᇂ']\n",
            "74\n"
          ],
          "name": "stdout"
        }
      ]
    },
    {
      "cell_type": "code",
      "metadata": {
        "id": "kn0vY0aYSG1u",
        "colab_type": "code",
        "colab": {}
      },
      "source": [
        "class Tokenizer():\n",
        "    def __init__(self, vocabs):\n",
        "        self.vocabs = vocabs\n",
        "        \n",
        "    def word2num(self, sentence):\n",
        "        tokens = list()\n",
        "        for char in sentence:\n",
        "            tokens.append(self.vocabs.index(char))    \n",
        "        return tokens\n",
        "        \n",
        "    def word2vec(self, sentence):\n",
        "        vectors = np.zeros((len(sentence), len(self.vocabs)))\n",
        "        for i, char in enumerate(sentence):\n",
        "            vectors[i, self.vocabs.index(char)] = 1   \n",
        "        return vectors\n",
        "    \n",
        "    def num2word(self, num):\n",
        "        output = list()\n",
        "        for i in num:\n",
        "            output.append(self.vocabs[i])\n",
        "        return output\n",
        "    \n",
        "    def num2vec(self, numbers):\n",
        "        vectors = np.zeros((len(numbers), len(self.vocabs)))\n",
        "        for i, num in enumerate(numbers):\n",
        "            vectors[i, num] = 1   \n",
        "        return vectors"
      ],
      "execution_count": 0,
      "outputs": []
    },
    {
      "cell_type": "code",
      "metadata": {
        "id": "jys96raCSgad",
        "colab_type": "code",
        "colab": {}
      },
      "source": [
        "tokenizer = Tokenizer(unicode_jamo_list)\n",
        "jamo_tokens = tokenizer.word2num(unicode_jamo_list)\n",
        "\n",
        "tokenized_pair = [[tokenizer.word2num(list(pairs[i, 0]) + ['<eos>']), tokenizer.word2num(list(pairs[i, 1]) + ['<eos>'])] for i in range(len(pairs))]"
      ],
      "execution_count": 0,
      "outputs": []
    },
    {
      "cell_type": "code",
      "metadata": {
        "id": "jCNrDLDCawpD",
        "colab_type": "code",
        "colab": {
          "base_uri": "https://localhost:8080/",
          "height": 68
        },
        "outputId": "4925a871-b8f6-4b9a-879a-d6e398a9bce6"
      },
      "source": [
        "idxs = range(0, len(tokenized_pair))\n",
        "\n",
        "train_size = int(0.8 * len(tokenized_pair))\n",
        "\n",
        "train_idxs = set(np.random.choice(idxs, train_size, False))\n",
        "\n",
        "total_idxs_set = set(idxs)\n",
        "\n",
        "eval_idxs = list(total_idxs_set - train_idxs)\n",
        "\n",
        "train_idxs = list(train_idxs)\n",
        "\n",
        "train_pairs = [tokenized_pair[idx] for idx in train_idxs]\n",
        "eval_pairs = [tokenized_pair[idx] for idx in eval_idxs]\n",
        "\n",
        "print(\"Size of the total pairs: {}\".format(len(tokenized_pair)))\n",
        "print(\"Size of the training pairs: {}\".format(len(train_pairs)))\n",
        "print(\"Size of the evaluation pairs: {}\".format(len(eval_pairs)))"
      ],
      "execution_count": 7,
      "outputs": [
        {
          "output_type": "stream",
          "text": [
            "Size of the total pairs: 51955\n",
            "Size of the training pairs: 41564\n",
            "Size of the evaluation pairs: 10391\n"
          ],
          "name": "stdout"
        }
      ]
    },
    {
      "cell_type": "code",
      "metadata": {
        "id": "siQBlYnySqiZ",
        "colab_type": "code",
        "colab": {}
      },
      "source": [
        "def ordered_shuffling(pairs, shuffle_step = 12):\n",
        "    eumun_length_list = np.asarray([len(pair[1]) for pair in pairs])\n",
        "    \n",
        "#   print(eumun_length_list)\n",
        "    \n",
        "    sorted_order = np.argsort(eumun_length_list)\n",
        "    \n",
        "    bundle = np.stack([eumun_length_list[sorted_order], sorted_order])\n",
        "\n",
        "    for seq_len in range(shuffle_step, np.max(eumun_length_list), shuffle_step):\n",
        "        idxs = np.where((bundle[0, :] > seq_len) & (bundle[0, :] <= seq_len + shuffle_step))[0]\n",
        "        idxs_origin = copy.deepcopy(idxs)\n",
        "        random.shuffle(idxs)\n",
        "        bundle[:, idxs_origin] = bundle[:, idxs]\n",
        "\n",
        "    shuffled_sorted_order = bundle[1, :]\n",
        "    \n",
        "#     plt.figure()\n",
        "#     plt.plot(eumun_length_list[shuffled_sorted_order])\n",
        "#     plt.show()\n",
        "    \n",
        "    return [pairs[order] for order in shuffled_sorted_order]"
      ],
      "execution_count": 0,
      "outputs": []
    },
    {
      "cell_type": "code",
      "metadata": {
        "id": "gU9DsH09TTXd",
        "colab_type": "code",
        "colab": {
          "base_uri": "https://localhost:8080/",
          "height": 34
        },
        "outputId": "ca78669a-46c8-4d2a-ed27-2dd3e41620c9"
      },
      "source": [
        "len(ordered_shuffling(train_pairs))"
      ],
      "execution_count": 9,
      "outputs": [
        {
          "output_type": "execute_result",
          "data": {
            "text/plain": [
              "41564"
            ]
          },
          "metadata": {
            "tags": []
          },
          "execution_count": 9
        }
      ]
    },
    {
      "cell_type": "code",
      "metadata": {
        "id": "Mk6ZBq7Du1xX",
        "colab_type": "code",
        "colab": {}
      },
      "source": [
        "class Batch_Loader():\n",
        "    def __init__(self, sentence_pairs, shuffle_step = 12, batch_size = 1000):\n",
        "        super(Batch_Loader).__init__()\n",
        "        self.sentence_pairs = sentence_pairs\n",
        "        self.total_num_input = len(sentence_pairs)\n",
        "        self.shuffle_step = shuffle_step\n",
        "        self.end_flag = True\n",
        "        self.batch_size = batch_size\n",
        "        self.current_loading_index = 0\n",
        "    \n",
        "    def initialize_batch(self):\n",
        "        self.sentence_pairs = ordered_shuffling(self.sentence_pairs)\n",
        "        self.current_loading_index = 0\n",
        "        self.end_flag = False\n",
        "        \n",
        "        return\n",
        "    \n",
        "    def get_batch(self):\n",
        "        \n",
        "        eumjul_list = list()\n",
        "        eumun_list = list()\n",
        "        eumjul_length_list = list()\n",
        "        eumun_length_list = list()\n",
        "\n",
        "        count = 0\n",
        "        max_eumjul_len = 0\n",
        "        max_eumun_len = 0\n",
        "        \n",
        "        for i in range(self.batch_size):\n",
        "            \n",
        "            if self.current_loading_index >= self.total_num_input:\n",
        "                self.end_flag = True\n",
        "                break\n",
        "            \n",
        "            pair = self.sentence_pairs[self.current_loading_index]\n",
        "            eumjul = pair[0]\n",
        "            eumun = pair[1]\n",
        "            \n",
        "            eumjul_list.append(eumjul)\n",
        "            eumun_list.append(eumun)\n",
        "            \n",
        "            eumjul_length_list.append(len(eumjul))\n",
        "            eumun_length_list.append(len(eumun))\n",
        "            \n",
        "            if (len(eumjul) > max_eumjul_len):\n",
        "                max_eumjul_len = len(eumjul)\n",
        "            if (len(eumun) > max_eumun_len):\n",
        "                max_eumun_len = len(eumun)  \n",
        "            \n",
        "            self.current_loading_index += 1\n",
        "            count += 1\n",
        "            \n",
        "        batched_eumjul = torch.zeros(count, max_eumjul_len)\n",
        "        batched_eumun = torch.zeros(count, max_eumun_len)\n",
        "        batched_loss_mask = torch.zeros(count, max_eumjul_len)\n",
        "        \n",
        "#         print(eumjul_list)\n",
        "        \n",
        "        for order in range(count):\n",
        "        \n",
        "            batched_eumjul[order, :eumjul_length_list[order]] = torch.tensor(eumjul_list[order])\n",
        "            batched_eumun[order, :eumun_length_list[order]] = torch.tensor(eumun_list[order])\n",
        "            batched_loss_mask[order, :eumjul_length_list[order]] = torch.ones(eumjul_length_list[order])\n",
        "        \n",
        "        return batched_eumjul, batched_eumun, batched_loss_mask"
      ],
      "execution_count": 0,
      "outputs": []
    },
    {
      "cell_type": "code",
      "metadata": {
        "id": "f5IiTBc5Tzwb",
        "colab_type": "code",
        "colab": {}
      },
      "source": [
        "# eumjul_batch, eumun_batch, eumun_loss_mask = train_batch_loader.get_batch()"
      ],
      "execution_count": 0,
      "outputs": []
    },
    {
      "cell_type": "code",
      "metadata": {
        "id": "6_VAtkrDVdrX",
        "colab_type": "code",
        "colab": {}
      },
      "source": [
        "# https://pytorch.org/tutorials/intermediate/seq2seq_translation_tutorial.html\n",
        "############################################################################\n",
        "\n",
        "class EncoderRNN(nn.Module):\n",
        "    def __init__(self, hidden_size):\n",
        "        super(EncoderRNN, self).__init__()\n",
        "        self.hidden_size = hidden_size\n",
        "        self.gru = nn.GRU(hidden_size, hidden_size)\n",
        "\n",
        "    def forward(self, input, hidden):\n",
        "        output, hidden = self.gru(input, hidden)\n",
        "        \n",
        "        return output, hidden\n",
        "\n",
        "    def initHidden(self, batch_size):\n",
        "        return torch.zeros(1, batch_size, self.hidden_size, device=device)\n",
        "    \n",
        "class AttnDecoderRNN(nn.Module):\n",
        "    def __init__(self, hidden_size, output_size, dropout_p=0.1, max_length=10):\n",
        "        super(AttnDecoderRNN, self).__init__()\n",
        "        self.hidden_size = hidden_size\n",
        "        self.output_size = output_size\n",
        "        self.dropout_p = dropout_p\n",
        "        self.max_length = max_length\n",
        "\n",
        "        self.attn = nn.Linear(self.hidden_size * 2, self.hidden_size)\n",
        "        self.attn_combine = nn.Linear(self.hidden_size * 2, self.hidden_size)\n",
        "        self.dropout = nn.Dropout(self.dropout_p)\n",
        "        self.gru = nn.GRU(self.hidden_size, self.hidden_size)\n",
        "        self.out = nn.Linear(self.hidden_size, len(jamo_tokens))\n",
        "\n",
        "    def forward(self, embedded, hidden, encoder_outputs):\n",
        "\n",
        "        embedded = self.dropout(embedded)\n",
        "        \n",
        "        #(1, B, H) + (1, B, H) = (1, B, 2H)        \n",
        "        concated_tensor = torch.cat((embedded, hidden), 2)\n",
        "        \n",
        "        # (1, B, H)\n",
        "        key = self.attn(concated_tensor)\n",
        "        \n",
        "        # (B, H, 1)\n",
        "        key = key.permute(1, 2, 0)\n",
        "        \n",
        "        # (B, L, 1)        \n",
        "        attention_value = torch.bmm(encoder_outputs, key)\n",
        "        \n",
        "        attn_weights = F.softmax(attention_value, dim=1)\n",
        "        \n",
        "        # (B, 1, L)\n",
        "        attn_weights = attn_weights.permute(0, 2, 1)\n",
        "        \n",
        "        # (B, 1, H)\n",
        "        attn_applied = torch.bmm(attn_weights, encoder_outputs)\n",
        "\n",
        "        # (1, B, H)\n",
        "        attn_applied = attn_applied.permute(1, 0, 2)\n",
        "        \n",
        "        # (1, B, 2H)\n",
        "        output = torch.cat((embedded, attn_applied), 2)\n",
        "        \n",
        "        # (1, B, H)\n",
        "        output = self.attn_combine(output)\n",
        "\n",
        "        output = F.relu(output)\n",
        "        \n",
        "        # (1, B, H)\n",
        "        output, hidden = self.gru(output, hidden)\n",
        "\n",
        "        # (1, B, 74)\n",
        "        output = F.log_softmax(self.out(output), dim=2)\n",
        "        return output.squeeze(0), hidden, attn_weights.squeeze(1)\n",
        "\n",
        "    def initHidden(self):\n",
        "        return torch.zeros(1, 1, self.hidden_size, device=device)\n",
        "    \n",
        "    \n",
        "#############################################################################\n",
        "    \n",
        "class Seq2SeqNet():\n",
        "    def __init__(self, hidden_size):\n",
        "        super(Seq2SeqNet, self).__init__()\n",
        "        \n",
        "        device = torch.device(\"cuda:0\" if torch.cuda.is_available() else \"cpu\")\n",
        "        \n",
        "        self.device = device\n",
        "        \n",
        "        self.hidden_size = hidden_size\n",
        "        \n",
        "        self.embedding_layer = nn.Embedding(len(jamo_tokens), hidden_size).to(device) \n",
        "        self.embedding_layer_2 = nn.Embedding(len(jamo_tokens), hidden_size).to(device)\n",
        "        self.encoder = EncoderRNN(hidden_size).to(device)\n",
        "        self.decoder = AttnDecoderRNN(hidden_size,len(jamo_tokens), dropout_p=0.1).to(device)\n",
        "        \n",
        "        self.embedding_optimizer = optim.SGD(self.embedding_layer.parameters(), lr=0.001)  \n",
        "        self.embedding_optimizer_2 = optim.SGD(self.embedding_layer_2.parameters(), lr=0.001)  \n",
        "        self.encoder_optimizer = optim.Adam(self.encoder.parameters(), lr=0.001)\n",
        "        self.decoder_optimizer = optim.Adam(self.decoder.parameters(), lr=0.001)\n",
        "\n",
        "#         self.criterion = nn.CrossEntropyLoss(reduction='none').to(device)\n",
        "        self.criterion = nn.NLLLoss(reduction='none').to(device)\n",
        "#         self.ctc_loss = nn.CTCLoss().to(device)\n",
        "        \n",
        "        for param in self.encoder.parameters():\n",
        "            param.data.uniform_(-0.1, 0.1)\n",
        "        for param in self.embedding_layer.parameters():\n",
        "            param.data.uniform_(-0.1, 0.1)\n",
        "        for param in self.embedding_layer_2.parameters():\n",
        "            param.data.uniform_(-0.1, 0.1)\n",
        "        for param in self.decoder.parameters():\n",
        "            param.data.uniform_(-0.1, 0.1)\n",
        "            \n",
        "    def train(self, input_tensor, target_tensor, loss_mask):\n",
        "        \n",
        "        self.embedding_optimizer.zero_grad()\n",
        "        self.embedding_optimizer_2.zero_grad()\n",
        "        self.encoder_optimizer.zero_grad()\n",
        "        self.decoder_optimizer.zero_grad()\n",
        "\n",
        "        batch_size = input_tensor.shape[0]\n",
        "        input_length = input_tensor.shape[1]\n",
        "        target_length = target_tensor.shape[1]\n",
        "        \n",
        "#       input_tensor = torch.cuda.LongTensor(input_tensor.long().to(device))\n",
        "        input_tensor = torch.cuda.LongTensor(input_tensor.long())\n",
        "        target_tensor = torch.cuda.LongTensor(target_tensor.long())\n",
        "        \n",
        "        embedded_tensor = self.embedding_layer(input_tensor)\n",
        "        \n",
        "        embedded_tensor = embedded_tensor.permute(1, 0, 2)\n",
        "        \n",
        "        # (L, B)\n",
        "        target_tensor = target_tensor.permute(1, 0)\n",
        "\n",
        "        encoder_outputs = torch.zeros(input_length, batch_size, self.hidden_size, device=self.device)\n",
        "\n",
        "        loss = 0\n",
        "\n",
        "        encoder_hidden = self.encoder.initHidden(batch_size)\n",
        "\n",
        "        for ei in range(input_length):\n",
        "            embedded_slice = embedded_tensor[ei].unsqueeze(0)\n",
        "            encoder_output, encoder_hidden = self.encoder(\n",
        "                embedded_slice, encoder_hidden)\n",
        "            encoder_outputs[ei] = encoder_output\n",
        "            \n",
        "        decoder_input_token = torch.tensor(tokenizer.word2num(['<sos>'] * batch_size)).long().unsqueeze(0).to(device)\n",
        "\n",
        "        # (L, B, H) -> (B, L, H)\n",
        "        encoder_outputs = encoder_outputs.permute(1, 0, 2)\n",
        "\n",
        "        decoder_hidden = encoder_hidden\n",
        "        \n",
        "        decoder_attentions = torch.zeros([batch_size, input_length, target_length])\n",
        "        decoder_outputs = torch.zeros([batch_size, target_length, len(jamo_tokens)])\n",
        "\n",
        "        for di in range(target_length):\n",
        "            decoder_input = self.embedding_layer_2(decoder_input_token)\n",
        "            \n",
        "#             print('Decoder Input Shape: {}'.format(decoder_input.shape))\n",
        "            \n",
        "            decoder_output, decoder_hidden, decoder_attention = self.decoder(\n",
        "                decoder_input, decoder_hidden, encoder_outputs)\n",
        "            loss += torch.mean(self.criterion(decoder_output, target_tensor[di]) * loss_mask[:, di])\n",
        "                        \n",
        "            decoder_input_token = target_tensor[di].unsqueeze(0)\n",
        "            \n",
        "            decoder_attentions[:, :, di] = decoder_attention\n",
        "            decoder_outputs[:, di, :] = decoder_output\n",
        "            \n",
        "#       print(decoder_output.shape)\n",
        "\n",
        "        loss.backward()\n",
        "\n",
        "        self.embedding_optimizer.step()\n",
        "        self.embedding_optimizer_2.step()\n",
        "        self.encoder_optimizer.step()\n",
        "        self.decoder_optimizer.step()\n",
        "\n",
        "        return decoder_outputs, decoder_attentions, loss.item() / target_length\n",
        "    \n",
        "    \n",
        "\n",
        "    def evaluate(self, input_tensor, target_tensor, loss_mask):\n",
        "        \n",
        "        batch_size = input_tensor.shape[0]\n",
        "        input_length = input_tensor.shape[1]\n",
        "        target_length = target_tensor.shape[1]\n",
        "        \n",
        "        input_tensor = torch.cuda.LongTensor(input_tensor.long())\n",
        "        target_tensor = torch.cuda.LongTensor(target_tensor.long())\n",
        "        \n",
        "        embedded_tensor = self.embedding_layer(input_tensor)\n",
        "        embedded_tensor = embedded_tensor.permute(1, 0, 2)\n",
        "        \n",
        "        # (L, B)\n",
        "        target_tensor = target_tensor.permute(1, 0)\n",
        "\n",
        "        encoder_outputs = torch.zeros(input_length, batch_size, self.hidden_size, device=self.device)\n",
        "\n",
        "        loss = 0\n",
        "\n",
        "        encoder_hidden = self.encoder.initHidden(batch_size)\n",
        "\n",
        "        for ei in range(input_length):\n",
        "            embedded_slice = embedded_tensor[ei].unsqueeze(0)\n",
        "            encoder_output, encoder_hidden = self.encoder(\n",
        "                embedded_slice, encoder_hidden)\n",
        "            encoder_outputs[ei] = encoder_output\n",
        "            \n",
        "        decoder_input_token = torch.tensor(tokenizer.word2num(['<sos>'] * batch_size)).long().unsqueeze(0).to(device)\n",
        "\n",
        "        # (L, B, H) -> (B, L, H)\n",
        "        encoder_outputs = encoder_outputs.permute(1, 0, 2)\n",
        "\n",
        "        decoder_hidden = encoder_hidden\n",
        "        \n",
        "        decoder_attentions = torch.zeros([batch_size, input_length, target_length])\n",
        "        decoder_outputs = torch.zeros([batch_size, target_length, len(jamo_tokens)])\n",
        "\n",
        "        for di in range(target_length):\n",
        "            decoder_input = self.embedding_layer_2(decoder_input_token)\n",
        "\n",
        "            decoder_output, decoder_hidden, decoder_attention = self.decoder(\n",
        "                decoder_input, decoder_hidden, encoder_outputs)\n",
        "            loss += torch.mean(self.criterion(decoder_output, target_tensor[di]) * loss_mask[:, di])\n",
        "                        \n",
        "            decoder_input_token = target_tensor[di].unsqueeze(0)\n",
        "            \n",
        "            decoder_attentions[:, :, di] = decoder_attention\n",
        "            decoder_outputs[:, di, :] = decoder_output\n",
        "\n",
        "\n",
        "        return decoder_outputs, decoder_attentions, loss.item() / target_length\n",
        "    \n",
        "    def save(self, check_point_name):\n",
        "        torch.save({\n",
        "            'embedding_layer_state_dict': self.embedding_layer.state_dict(),\n",
        "            'embedding_layer_2_state_dict': self.embedding_layer_2.state_dict(),\n",
        "            'encoder_state_dict': self.encoder.state_dict(),\n",
        "            'decoder_state_dict': self.decoder.state_dict(),\n",
        "            'embedding_optimizer_state_dict': self.embedding_optimizer.state_dict(),\n",
        "            'embedding_optimizer_2_state_dict': self.embedding_optimizer_2.state_dict(),\n",
        "            'encoder_optimizer_state_dict': self.encoder_optimizer.state_dict(),\n",
        "            'decoder_optimizer_state_dict': self.decoder_optimizer.state_dict(),\n",
        "            }, check_point_name)\n",
        "    \n",
        "    def load(self, check_point_name):\n",
        "        checkpoint = torch.load(check_point_name)\n",
        "        self.embedding_layer.load_state_dict(checkpoint['embedding_layer_state_dict'])\n",
        "        self.embedding_layer_2.load_state_dict(checkpoint['embedding_layer_2_state_dict'])\n",
        "        self.encoder.load_state_dict(checkpoint['encoder_state_dict'])\n",
        "        self.decoder.load_state_dict(checkpoint['decoder_state_dict'])\n",
        "        self.embedding_optimizer.load_state_dict(checkpoint['embedding_optimizer_state_dict'])\n",
        "        self.embedding_optimizer_2.load_state_dict(checkpoint['embedding_optimizer_2_state_dict'])\n",
        "        self.encoder_optimizer.load_state_dict(checkpoint['encoder_optimizer_state_dict'])\n",
        "        self.decoder_optimizer.load_state_dict(checkpoint['decoder_optimizer_state_dict'])\n",
        "        \n",
        "    def set_mode(self, mode):\n",
        "        \n",
        "        if mode == 'train':\n",
        "            self.embedding_layer.train()\n",
        "            self.embedding_layer_2.train()\n",
        "            self.encoder.train()\n",
        "            self.decoder.train()\n",
        "            \n",
        "        elif mode == 'eval':\n",
        "            self.embedding_layer.eval()\n",
        "            self.embedding_layer_2.eval()\n",
        "            self.encoder.eval()\n",
        "            self.decoder.eval()\n",
        "            \n",
        "        else:\n",
        "            print(\"Invalid mode string: {}\".format(mode))\n",
        "    \n",
        "net = Seq2SeqNet(256)"
      ],
      "execution_count": 0,
      "outputs": []
    },
    {
      "cell_type": "code",
      "metadata": {
        "id": "1kG6q2iuVlNz",
        "colab_type": "code",
        "colab": {
          "base_uri": "https://localhost:8080/",
          "height": 34
        },
        "outputId": "bf6b84df-a7f9-4e41-b580-8add0c030127"
      },
      "source": [
        "device = torch.device(\"cuda:0\" if torch.cuda.is_available() else \"cpu\")      \n",
        "print(device)"
      ],
      "execution_count": 13,
      "outputs": [
        {
          "output_type": "stream",
          "text": [
            "cuda:0\n"
          ],
          "name": "stdout"
        }
      ]
    },
    {
      "cell_type": "code",
      "metadata": {
        "id": "ILAwy3MmbFYN",
        "colab_type": "code",
        "colab": {}
      },
      "source": [
        "train_batch_loader = Batch_Loader(train_pairs, 12, 256)\n",
        "train_batch_loader.initialize_batch()\n",
        "\n",
        "eval_batch_loader = Batch_Loader(eval_pairs, 12, 256)\n",
        "eval_batch_loader.initialize_batch()"
      ],
      "execution_count": 0,
      "outputs": []
    },
    {
      "cell_type": "markdown",
      "metadata": {
        "id": "nxf-IEKW0VY_",
        "colab_type": "text"
      },
      "source": [
        ""
      ]
    },
    {
      "cell_type": "code",
      "metadata": {
        "id": "5t5eAxxkXzht",
        "colab_type": "code",
        "colab": {
          "base_uri": "https://localhost:8080/",
          "height": 1000
        },
        "outputId": "32c087b9-349b-448b-83c9-27d0e020bf97"
      },
      "source": [
        "# 'keyword' determines the save keyword\n",
        "# Change this keyword if you want to start training a new model\n",
        "keyword = 'eumun-to-eumjul'\n",
        "\n",
        "# List of loss values\n",
        "loss_history_train = list()\n",
        "loss_history_eval = list()\n",
        "\n",
        "try:\n",
        "    loss_history_train = np.load('gdrive/My Drive/korean-single-speaker-speech-dataset/kss/model_saved/loss_history_train_{}.npy'.format(keyword)).tolist()\n",
        "    loss_history_eval = np.load('gdrive/My Drive/korean-single-speaker-speech-dataset/kss/model_saved/loss_history_eval_{}.npy'.format(keyword)).tolist()\n",
        "except:\n",
        "    print(\"Loading Failed\")\n",
        "\n",
        "EPOCH = 3 * 60 * 4\n",
        "    \n",
        "# Load model if model weights already exists\n",
        "try:\n",
        "    net.load('gdrive/My Drive/korean-single-speaker-speech-dataset/kss/model_saved/{}'.format(keyword))\n",
        "except:\n",
        "    print(\"Loading Error\")\n",
        "    \n",
        "for epoch in range(EPOCH):\n",
        "    \n",
        "    print(datetime.now().strftime('%m-%d %H:%M:%S'))\n",
        "    \n",
        "    net.set_mode('train')\n",
        "    train_batch_loader.initialize_batch()\n",
        "    loss_list_train = list()\n",
        "    \n",
        "    while train_batch_loader.end_flag == False:\n",
        "        eumjul_batch, eumun_batch, eumun_loss_mask = train_batch_loader.get_batch()\n",
        "        pred_tensor, attention_tensor, loss = net.train(eumun_batch.to(device), eumjul_batch.to(device), eumun_loss_mask.to(device))        \n",
        "        loss_list_train.append(loss)\n",
        "\n",
        "    print(datetime.now().strftime('%m-%d %H:%M:%S'))\n",
        "    print(\"Mean Train Loss: {}\".format(np.mean(np.asarray(loss_list_train))))\n",
        "    loss_history_train.append(np.mean(np.asarray(loss_list_train)))\n",
        "    \n",
        "    net.set_mode('eval')\n",
        "    eval_batch_loader.initialize_batch()\n",
        "    loss_list_eval = list()\n",
        "    \n",
        "    while eval_batch_loader.end_flag == False:\n",
        "        eumjul_batch_, eumun_batch_, eumun_loss_mask = eval_batch_loader.get_batch()\n",
        "        pred_tensor_, attention_tensor_, loss = net.evaluate(eumun_batch_.to(device), eumjul_batch_.to(device), eumun_loss_mask.to(device))        \n",
        "        loss_list_eval.append(loss)\n",
        "\n",
        "    print(datetime.now().strftime('%m-%d %H:%M:%S'))\n",
        "    print(\"Mean Evaluation Loss: {}\".format(np.mean(np.asarray(loss_list_eval))))\n",
        "    loss_history_eval.append(np.mean(np.asarray(loss_list_eval)))\n",
        "    \n",
        "    \n",
        "    plt.figure()\n",
        "    plt.plot(loss_history_train)\n",
        "    plt.plot(loss_history_eval)\n",
        "    plt.show()\n",
        "    \n",
        "    sentence = tokenizer.num2word(eumun_batch[0].detach().cpu().numpy().astype(int))\n",
        "    print(''.join(sentence))\n",
        "\n",
        "    _, pred_token = pred_tensor[0].max(-1)\n",
        "    sentence = tokenizer.num2word(pred_token.detach())\n",
        "    print(''.join(sentence))\n",
        "    \n",
        "    sentence = tokenizer.num2word(eumjul_batch[0].detach().cpu().numpy().astype(int))\n",
        "    print(''.join(sentence))\n",
        "\n",
        "    plt.figure(figsize = (6, 6))\n",
        "    plt.imshow(attention_tensor[0].detach().cpu().numpy())\n",
        "    plt.show\n",
        "    \n",
        "    sentence = tokenizer.num2word(eumun_batch_[0].detach().cpu().numpy().astype(int))\n",
        "    print(''.join(sentence))\n",
        "\n",
        "    _, pred_token = pred_tensor_[0].max(-1)\n",
        "    sentence = tokenizer.num2word(pred_token.detach())\n",
        "    print(''.join(sentence))\n",
        "    \n",
        "    sentence = tokenizer.num2word(eumjul_batch_[0].detach().cpu().numpy().astype(int))\n",
        "    print(''.join(sentence))\n",
        "\n",
        "    plt.figure(figsize = (6, 6))\n",
        "    plt.imshow(attention_tensor_[0].detach().cpu().numpy())\n",
        "    plt.show\n",
        "\n",
        "    net.save('gdrive/My Drive/korean-single-speaker-speech-dataset/kss/model_saved/{}'.format(keyword))\n",
        "    np.save('gdrive/My Drive/korean-single-speaker-speech-dataset/kss/model_saved/loss_history_train_{}.npy'.format(keyword), loss_history_train)\n",
        "    np.save('gdrive/My Drive/korean-single-speaker-speech-dataset/kss/model_saved/loss_history_eval_{}.npy'.format(keyword), loss_history_eval)\n",
        "    \n",
        "\n",
        "    print(\"-------------------------------------------------------------------------------------------------------\")"
      ],
      "execution_count": 15,
      "outputs": [
        {
          "output_type": "stream",
          "text": [
            "Loading Error\n",
            "09-12 18:21:32\n",
            "09-12 18:22:53\n",
            "Mean Train Loss: 1.9283865360831167\n",
            "09-12 18:22:59\n",
            "Mean Evaluation Loss: 1.0802068069302786\n"
          ],
          "name": "stdout"
        },
        {
          "output_type": "display_data",
          "data": {
            "image/png": "[encoded data removed]",
            "text/plain": [
              "<Figure size 432x288 with 1 Axes>"
            ]
          },
          "metadata": {
            "tags": []
          }
        },
        {
          "output_type": "stream",
          "text": [
            "구청장은 교통 수요 증가를 가져오는 도로 건설 등 도로 공급 위주의 교통투자정책을 지양하고, 수송체계 전반을 에너지 효율이 높은 대중교통 중심의 체계로 개선하기 위하여 노력하여야 한다.<eos>                                                                         \n",
            "구렁장은 가종ᄀ수웡종가를 가정ᅦᆫᅳᆫ 고로 곤걸 그ᄅᄒ고로 고ᄅ갈 귀후에 고소 오 ᅡ ᅥᆼ후ᄒ을 기워 하고  구송이 ᅦ 언가ᄀ ᅦᆯ 위허 ᅵ 아셔ᄅ이 애ᄅ은 오후ᄋ와호 ᄋ구ᄉ이 으 우고 ᅩ 고선 ᅡ기 이하여ᄋ개롱아겨에 간다ᄀ<eos><eos>ᄉᄌᄀᄀᄀᄀᄀᄀᄀᄀᄀᄀᄀᄀᄀᄀᄀᄀᄀᄀᄀᄀᄀᄀᄀᄀᄀᄀᄀᄀᄀᄀᄀᄀᄀᄀᄀᄀᄀᄀᄀᄀᄀᄀᄀᄀᄀᄀᄀᄀᄀᄀᄀᄀᄀᄀᄀᄀᄀᄀᄀᄀᄀᄀᄀᄀᄀᄀᄀᄀᄀᄀ\n",
            "성도는 회개와 기도, 절제와 금식, 깊은 명상과 경건 생활을 통해 수난의 길을 걸어가신 주님을 기억하며 그 은혜를 감사할 수 있어야 한다.<eos>                                                                                                                                         \n",
            "겅송ᅳᆫ 재개의 기초  얼 ᅥ에 금식ᄋ 긴은 궁상과 긍선 생핼을 공해ᄋ순ᅳᆼ ᅳ 그ᄀ은 깃어 ᅡ ᅵᆫ 준ᅵᆫ을 기어 아견근즌 ᅢ을 깅상ᅡᆯ 준은어 ᅣ 한다.<eos><eos>ᄀᄃᄀᄀᄀᄀᄀᄀᄀᄀᄀᄀᄀᄀᄀᄀᄀᄀᄀᄀᄀᄀᄀᄀᄀᄀᄀᄀᄀᄀᄀᄀᄀᄀᄀᄀᄀᄀᄀᄀᄀᄀᄀᄀᄀᄀᄀᄀᄀᄀᄀᄀᄀᄀᄀᄀᄀᄀᄀᄀᄀᄀᄀᄀᄀᄀᄀᄀᄀᄀᄀᄀᄀᄀᄀᄀᄀᄀᄀᄀᄀᄀᄀᄀᄀᄀᄀᄀᄀᄀᄀᄀᄀᄀᄀᄀᄀᄀᄀᄀᄀᄀᄀᄀᄀᄀᄀᄀᄀᄀᄀᄀᄀᄀᄀᄀᄀᄀᄀᄀᄀᄀᄀᄀᄀᄀᄀᄀᄀᄀᄀᄀᄀᄀᄀᄀ\n",
            "-------------------------------------------------------------------------------------------------------\n",
            "09-12 18:22:59\n",
            "09-12 18:24:20\n",
            "Mean Train Loss: 0.40222239467711174\n",
            "09-12 18:24:26\n",
            "Mean Evaluation Loss: 0.811127890855766\n"
          ],
          "name": "stdout"
        },
        {
          "output_type": "display_data",
          "data": {
            "image/png": "[encoded data removed]",
            "text/plain": [
              "<Figure size 432x432 with 1 Axes>"
            ]
          },
          "metadata": {
            "tags": []
          }
        },
        {
          "output_type": "display_data",
          "data": {
            "image/png": "[encoded data removed]",
            "text/plain": [
              "<Figure size 432x432 with 1 Axes>"
            ]
          },
          "metadata": {
            "tags": []
          }
        },
        {
          "output_type": "display_data",
          "data": {
            "image/png": "[encoded data removed]",
            "text/plain": [
              "<Figure size 432x288 with 1 Axes>"
            ]
          },
          "metadata": {
            "tags": []
          }
        },
        {
          "output_type": "stream",
          "text": [
            "심의위원회는 위원장이 필요하다고 인정하는 경우와 구청장의 회의소집 요구가 있을 때에 위원장이 소집하며 재적위원 과반수의 출석으로 개의하고, 출석위원 과반수의 찬성으로 의결한다.<eos>                                                                              \n",
            "이ᄆ의워원회는 위원정이 결요하도뎌 귀ᄋ악하드  경약ᅡᆨ개바ᄒ아 줘ᄋ와바각ᅥᄋᄋ귀바가 귀ᄇ압ᄀ애의ᄀ여변허ᄀ의ᄋ애바ᄀ안ᅡ 구박으원 과반서궈 외ᄇ각으로 개바간ᅧ  개ᄇ각의원 과반서궈ᄋ외ᄇ각의로 규격아  ᅢᄋ<eos>ᄀᄀ<eos>                                                                           \n",
            "민간환경단체 등 구민단체는 구민의 환경보전 실천의지를 높이기 위한 홍보와 환경오염 감시 등의 환경보전활동에 노력하여야 한다.<eos>                                                                                                                                               \n",
            "긴간환경단체 등 구민단체는 수민다ᄌ뫈경보전 실엔베전ᅩᆯᄌ승벤ᅩᆯ윈ᅡᆫ 홍보완완경버좐ᄋ안시 등베ᄋ완 ᅧᆼ보전완버ᄌ읬홍ᅧᄋ와여얌한 ᅡ.<eos><eos><eos>ᄋᄋᄋᄋᄋᄋᄋᄋᄋᄋᄋᄋᄋᄋᄋᄋᄋᄋᄋᄋᄋᄋᄋᄋᄋᄋᄋᄋᄋᄋᄋᄋᄋᄋᄋᄋᄋᄋᄋᄋᄋᄋᄋᄋᄋᄋᄋᄋᄋᄋᄋᄋᄋᄋᄋᄋᄋᄋᄋᄋᄋᄋᄋᄋᄋᄋᄋᄋᄋᄋᄋᄋᄋᄋᄋᄋᄋᄋᄋᄋᄋᄋᄋᄋᄋᄋᄋᄋᄋᄋᄋᄋᄋᄋᄋᄋᄋᄋᄋᄋᄋᄋᄋᄋᄋᄋᄋᄋᄋᄋᄋᄋᄋᄋᄋᄋᄋᄋᄋᄋᄋᄋᄋᄋᄋᄋᄋᄋᄋᄋᄋᄋᄋᄋᄋᄋᄋᄋᄋᄋᄋ\n",
            "-------------------------------------------------------------------------------------------------------\n",
            "09-12 18:24:27\n",
            "09-12 18:25:48\n",
            "Mean Train Loss: 0.25887658695597215\n",
            "09-12 18:25:54\n",
            "Mean Evaluation Loss: 2.4487724084671787\n"
          ],
          "name": "stdout"
        },
        {
          "output_type": "display_data",
          "data": {
            "image/png": "[encoded data removed]",
            "text/plain": [
              "<Figure size 432x432 with 1 Axes>"
            ]
          },
          "metadata": {
            "tags": []
          }
        },
        {
          "output_type": "display_data",
          "data": {
            "image/png": "[encoded data removed]",
            "text/plain": [
              "<Figure size 432x432 with 1 Axes>"
            ]
          },
          "metadata": {
            "tags": []
          }
        },
        {
          "output_type": "display_data",
          "data": {
            "image/png": "[encoded data removed]",
            "text/plain": [
              "<Figure size 432x288 with 1 Axes>"
            ]
          },
          "metadata": {
            "tags": []
          }
        },
        {
          "output_type": "stream",
          "text": [
            "헌장부서의 장은 필요하다고 인정하는 경우에는 고객의 요구사항과 서비스를 제공하는 담당공무원의 애로사항 및 개선의견을 반영하여 헌장을 개정하는 등의 필요한 조치를 하여야 한다.<eos>                                                                           \n",
            "언장부서에 장은 필요하다고 인정하는 경우에는 격ᅢᄀ에 위구사하ᄂ여 어비스를 제객아든 감당과  ᅮ엔으 쇼구사항ᄀ좇 개가ᄅ으 ᅪ  ᅭᆫ 젬당하느 새ᄅ잉을 조징하는 당에 필으하ᄂᄋ메치를 자영ᅣ 한당<eos>ᅵ,ᄋ                                                                        \n",
            "조선은 청나라와 두 번의 전쟁에서 패배하며 청과 조공관계를 맺을 수밖에 없었지만, 조선이 문화적으로 중국보다 우월하다고 믿고 있었다.<eos>                                                                                                                                              \n",
            "초성 ᅣᆯᄒ찬월ᅩ?ᅣ.<eos>ᅳᄋ<eos>ᅣᅣ ᅣᆯ<eos>ᅡᆻ다.<eos>ᅣ.ᅣ.<eos>ᅣ.ᅣᆯᅣ.ᅣ.<eos>ᅣ  ᅣᆫ<eos>ᅡᅡᅡ?.ᅳ. ᅩ.ᅩ. <eos>ᅣ  ᅣᆯᄒ<eos>ᅡ.ᅣ. ᅣ.<eos>ᅣᆯ햤다.ᅡ.  ?ᅣ.ᅣ?<eos>ᅣᆻ<eos>ᅡ.야.?ᆻ다.ᅣ.<eos>ᅣᄋ올하?..<eos>ᅣ얄하.ᅡ.ᅩ?<eos>ᅣ  ᅩ.있었다.<eos>ᅳ.<eos><eos><eos><eos><eos><eos><eos><eos><eos><eos><eos><eos><eos><eos><eos><eos><eos><eos><eos><eos><eos><eos><eos><eos><eos><eos><eos><eos><eos><eos><eos><eos><eos><eos><eos><eos><eos><eos><eos><eos><eos><eos><eos><eos><eos><eos><eos><eos><eos><eos><eos><eos><eos><eos><eos><eos><eos><eos><eos><eos><eos><eos><eos><eos><eos><eos><eos><eos><eos><eos><eos><eos><eos><eos><eos><eos><eos><eos><eos><eos><eos><eos><eos><eos><eos><eos><eos><eos><eos><eos><eos><eos><eos><eos><eos><eos><eos><eos><eos><eos><eos><eos><eos><eos><eos><eos><eos><eos><eos><eos><eos><eos><eos><eos><eos><eos><eos><eos><eos><eos><eos><eos><eos><eos><eos><eos><eos><eos><eos><eos><eos><eos><eos><eos><eos><eos><eos><eos><eos><eos>\n",
            "-------------------------------------------------------------------------------------------------------\n",
            "09-12 18:25:55\n",
            "09-12 18:27:15\n",
            "Mean Train Loss: 0.30624383543135675\n",
            "09-12 18:27:22\n",
            "Mean Evaluation Loss: 0.13625795699245413\n"
          ],
          "name": "stdout"
        },
        {
          "output_type": "display_data",
          "data": {
            "image/png": "[encoded data removed]",
            "text/plain": [
              "<Figure size 432x432 with 1 Axes>"
            ]
          },
          "metadata": {
            "tags": []
          }
        },
        {
          "output_type": "display_data",
          "data": {
            "image/png": "[encoded data removed]",
            "text/plain": [
              "<Figure size 432x432 with 1 Axes>"
            ]
          },
          "metadata": {
            "tags": []
          }
        },
        {
          "output_type": "display_data",
          "data": {
            "image/png": "[encoded data removed]",
            "text/plain": [
              "<Figure size 432x288 with 1 Axes>"
            ]
          },
          "metadata": {
            "tags": []
          }
        },
        {
          "output_type": "stream",
          "text": [
            "아기 엄마들은 아토피 등의 위험 때문에 시중의 아무 턱받이나 사용하기가 곤란했는데 프로그램 수강생들이 직접 만든 친환경적 턱받이를 선물로 받게 되었다며 큰 호응을 보냈다.<eos>                                                                                \n",
            "아기 없마들인 아토피 등에 위험 때문에 시중에 아무 턱바ᄌ이나 사용하기가 골란핸는데 프로그램 수강생들이 직접 만든 친환경적 턱바ᄌ이를 선물로 받게 되었다며 큰 호응을 보냈다ᄆ<eos>ᅧᄋᄋᄋᄋ                                        ᄋ   ᄋ     ᄋ         ᄋ ᄋ            \n",
            "대불튀기는 대보름날 새벽이 되면 자기 집 마당에서 대나무를 태우는데, 이때에 나는 소리에 때문에 집안의 잡귀가 놀라서 달아나게 하는 풍속이다.<eos>                                                                                                                                           \n",
            "대불 ᅢ이는 대보름날 새벽이 되면 자기 집 맏ᅡᆼ에서 대남ᅮ를 태운ᅳᆫ데  이대에 나는 소리에 때문에 집안에 잡귀 ᅡ 놀라서 다ᄅ아나게 하는 숭속이다.<eos><eos>ᄉᄋᄋ                                                                                                                                       \n",
            "-------------------------------------------------------------------------------------------------------\n",
            "09-12 18:27:22\n"
          ],
          "name": "stdout"
        },
        {
          "output_type": "error",
          "ename": "KeyboardInterrupt",
          "evalue": "ignored",
          "traceback": [
            "\u001b[0;31m---------------------------------------------------------------------------\u001b[0m",
            "\u001b[0;31mKeyboardInterrupt\u001b[0m                         Traceback (most recent call last)",
            "\u001b[0;32m<ipython-input-15-81e1f439c7fc>\u001b[0m in \u001b[0;36m<module>\u001b[0;34m()\u001b[0m\n\u001b[1;32m     29\u001b[0m     \u001b[0;32mwhile\u001b[0m \u001b[0mtrain_batch_loader\u001b[0m\u001b[0;34m.\u001b[0m\u001b[0mend_flag\u001b[0m \u001b[0;34m==\u001b[0m \u001b[0;32mFalse\u001b[0m\u001b[0;34m:\u001b[0m\u001b[0;34m\u001b[0m\u001b[0;34m\u001b[0m\u001b[0m\n\u001b[1;32m     30\u001b[0m         \u001b[0meumjul_batch\u001b[0m\u001b[0;34m,\u001b[0m \u001b[0meumun_batch\u001b[0m\u001b[0;34m,\u001b[0m \u001b[0meumun_loss_mask\u001b[0m \u001b[0;34m=\u001b[0m \u001b[0mtrain_batch_loader\u001b[0m\u001b[0;34m.\u001b[0m\u001b[0mget_batch\u001b[0m\u001b[0;34m(\u001b[0m\u001b[0;34m)\u001b[0m\u001b[0;34m\u001b[0m\u001b[0;34m\u001b[0m\u001b[0m\n\u001b[0;32m---> 31\u001b[0;31m         \u001b[0mpred_tensor\u001b[0m\u001b[0;34m,\u001b[0m \u001b[0mattention_tensor\u001b[0m\u001b[0;34m,\u001b[0m \u001b[0mloss\u001b[0m \u001b[0;34m=\u001b[0m \u001b[0mnet\u001b[0m\u001b[0;34m.\u001b[0m\u001b[0mtrain\u001b[0m\u001b[0;34m(\u001b[0m\u001b[0meumun_batch\u001b[0m\u001b[0;34m.\u001b[0m\u001b[0mto\u001b[0m\u001b[0;34m(\u001b[0m\u001b[0mdevice\u001b[0m\u001b[0;34m)\u001b[0m\u001b[0;34m,\u001b[0m \u001b[0meumjul_batch\u001b[0m\u001b[0;34m.\u001b[0m\u001b[0mto\u001b[0m\u001b[0;34m(\u001b[0m\u001b[0mdevice\u001b[0m\u001b[0;34m)\u001b[0m\u001b[0;34m,\u001b[0m \u001b[0meumun_loss_mask\u001b[0m\u001b[0;34m.\u001b[0m\u001b[0mto\u001b[0m\u001b[0;34m(\u001b[0m\u001b[0mdevice\u001b[0m\u001b[0;34m)\u001b[0m\u001b[0;34m)\u001b[0m\u001b[0;34m\u001b[0m\u001b[0;34m\u001b[0m\u001b[0m\n\u001b[0m\u001b[1;32m     32\u001b[0m         \u001b[0mloss_list_train\u001b[0m\u001b[0;34m.\u001b[0m\u001b[0mappend\u001b[0m\u001b[0;34m(\u001b[0m\u001b[0mloss\u001b[0m\u001b[0;34m)\u001b[0m\u001b[0;34m\u001b[0m\u001b[0;34m\u001b[0m\u001b[0m\n\u001b[1;32m     33\u001b[0m \u001b[0;34m\u001b[0m\u001b[0m\n",
            "\u001b[0;32m<ipython-input-12-b246aeb9e3b2>\u001b[0m in \u001b[0;36mtrain\u001b[0;34m(self, input_tensor, target_tensor, loss_mask)\u001b[0m\n\u001b[1;32m    169\u001b[0m \u001b[0;31m#       print(decoder_output.shape)\u001b[0m\u001b[0;34m\u001b[0m\u001b[0;34m\u001b[0m\u001b[0;34m\u001b[0m\u001b[0m\n\u001b[1;32m    170\u001b[0m \u001b[0;34m\u001b[0m\u001b[0m\n\u001b[0;32m--> 171\u001b[0;31m         \u001b[0mloss\u001b[0m\u001b[0;34m.\u001b[0m\u001b[0mbackward\u001b[0m\u001b[0;34m(\u001b[0m\u001b[0;34m)\u001b[0m\u001b[0;34m\u001b[0m\u001b[0;34m\u001b[0m\u001b[0m\n\u001b[0m\u001b[1;32m    172\u001b[0m \u001b[0;34m\u001b[0m\u001b[0m\n\u001b[1;32m    173\u001b[0m         \u001b[0mself\u001b[0m\u001b[0;34m.\u001b[0m\u001b[0membedding_optimizer\u001b[0m\u001b[0;34m.\u001b[0m\u001b[0mstep\u001b[0m\u001b[0;34m(\u001b[0m\u001b[0;34m)\u001b[0m\u001b[0;34m\u001b[0m\u001b[0;34m\u001b[0m\u001b[0m\n",
            "\u001b[0;32m/usr/local/lib/python3.6/dist-packages/torch/tensor.py\u001b[0m in \u001b[0;36mbackward\u001b[0;34m(self, gradient, retain_graph, create_graph)\u001b[0m\n\u001b[1;32m    105\u001b[0m                 \u001b[0mproducts\u001b[0m\u001b[0;34m.\u001b[0m \u001b[0mDefaults\u001b[0m \u001b[0mto\u001b[0m\u001b[0;31m \u001b[0m\u001b[0;31m`\u001b[0m\u001b[0;31m`\u001b[0m\u001b[0;32mFalse\u001b[0m\u001b[0;31m`\u001b[0m\u001b[0;31m`\u001b[0m\u001b[0;34m.\u001b[0m\u001b[0;34m\u001b[0m\u001b[0;34m\u001b[0m\u001b[0m\n\u001b[1;32m    106\u001b[0m         \"\"\"\n\u001b[0;32m--> 107\u001b[0;31m         \u001b[0mtorch\u001b[0m\u001b[0;34m.\u001b[0m\u001b[0mautograd\u001b[0m\u001b[0;34m.\u001b[0m\u001b[0mbackward\u001b[0m\u001b[0;34m(\u001b[0m\u001b[0mself\u001b[0m\u001b[0;34m,\u001b[0m \u001b[0mgradient\u001b[0m\u001b[0;34m,\u001b[0m \u001b[0mretain_graph\u001b[0m\u001b[0;34m,\u001b[0m \u001b[0mcreate_graph\u001b[0m\u001b[0;34m)\u001b[0m\u001b[0;34m\u001b[0m\u001b[0;34m\u001b[0m\u001b[0m\n\u001b[0m\u001b[1;32m    108\u001b[0m \u001b[0;34m\u001b[0m\u001b[0m\n\u001b[1;32m    109\u001b[0m     \u001b[0;32mdef\u001b[0m \u001b[0mregister_hook\u001b[0m\u001b[0;34m(\u001b[0m\u001b[0mself\u001b[0m\u001b[0;34m,\u001b[0m \u001b[0mhook\u001b[0m\u001b[0;34m)\u001b[0m\u001b[0;34m:\u001b[0m\u001b[0;34m\u001b[0m\u001b[0;34m\u001b[0m\u001b[0m\n",
            "\u001b[0;32m/usr/local/lib/python3.6/dist-packages/torch/autograd/__init__.py\u001b[0m in \u001b[0;36mbackward\u001b[0;34m(tensors, grad_tensors, retain_graph, create_graph, grad_variables)\u001b[0m\n\u001b[1;32m     91\u001b[0m     Variable._execution_engine.run_backward(\n\u001b[1;32m     92\u001b[0m         \u001b[0mtensors\u001b[0m\u001b[0;34m,\u001b[0m \u001b[0mgrad_tensors\u001b[0m\u001b[0;34m,\u001b[0m \u001b[0mretain_graph\u001b[0m\u001b[0;34m,\u001b[0m \u001b[0mcreate_graph\u001b[0m\u001b[0;34m,\u001b[0m\u001b[0;34m\u001b[0m\u001b[0;34m\u001b[0m\u001b[0m\n\u001b[0;32m---> 93\u001b[0;31m         allow_unreachable=True)  # allow_unreachable flag\n\u001b[0m\u001b[1;32m     94\u001b[0m \u001b[0;34m\u001b[0m\u001b[0m\n\u001b[1;32m     95\u001b[0m \u001b[0;34m\u001b[0m\u001b[0m\n",
            "\u001b[0;31mKeyboardInterrupt\u001b[0m: "
          ]
        },
        {
          "output_type": "display_data",
          "data": {
            "image/png": "[encoded data removed]",
            "text/plain": [
              "<Figure size 432x432 with 1 Axes>"
            ]
          },
          "metadata": {
            "tags": []
          }
        },
        {
          "output_type": "display_data",
          "data": {
            "image/png": "[encoded data removed]",
            "text/plain": [
              "<Figure size 432x432 with 1 Axes>"
            ]
          },
          "metadata": {
            "tags": []
          }
        }
      ]
    },
    {
      "cell_type": "code",
      "metadata": {
        "id": "gP3FkiXUu3r4",
        "colab_type": "code",
        "colab": {
          "base_uri": "https://localhost:8080/",
          "height": 102
        },
        "outputId": "f7988dc9-51ea-44eb-914c-3d1afc339511"
      },
      "source": [
        "loss_history_train\n"
      ],
      "execution_count": 20,
      "outputs": [
        {
          "output_type": "execute_result",
          "data": {
            "text/plain": [
              "[nan,\n",
              " 1.9283865360831167,\n",
              " 0.40222239467711174,\n",
              " 0.25887658695597215,\n",
              " 0.30624383543135675]"
            ]
          },
          "metadata": {
            "tags": []
          },
          "execution_count": 20
        }
      ]
    },
    {
      "cell_type": "code",
      "metadata": {
        "id": "1VFEw8NVu-I5",
        "colab_type": "code",
        "colab": {}
      },
      "source": [
        ""
      ],
      "execution_count": 0,
      "outputs": []
    }
  ]
}